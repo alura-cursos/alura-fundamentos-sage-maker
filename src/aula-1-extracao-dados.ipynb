{
 "cells": [
  {
   "cell_type": "code",
   "execution_count": 1,
   "metadata": {
    "scrolled": true
   },
   "outputs": [
    {
     "name": "stdout",
     "output_type": "stream",
     "text": [
      "Requirement already up-to-date: pip in /home/ec2-user/anaconda3/envs/tensorflow_p36/lib/python3.6/site-packages (20.2.4)\n",
      "Requirement already satisfied: pandas==1.0.1 in /home/ec2-user/anaconda3/envs/tensorflow_p36/lib/python3.6/site-packages (1.0.1)\n",
      "Requirement already satisfied: python-dateutil>=2.6.1 in /home/ec2-user/anaconda3/envs/tensorflow_p36/lib/python3.6/site-packages (from pandas==1.0.1) (2.8.1)\n",
      "Requirement already satisfied: pytz>=2017.2 in /home/ec2-user/anaconda3/envs/tensorflow_p36/lib/python3.6/site-packages (from pandas==1.0.1) (2019.3)\n",
      "Requirement already satisfied: numpy>=1.13.3 in /home/ec2-user/anaconda3/envs/tensorflow_p36/lib/python3.6/site-packages (from pandas==1.0.1) (1.18.1)\n",
      "Requirement already satisfied: six>=1.5 in /home/ec2-user/anaconda3/envs/tensorflow_p36/lib/python3.6/site-packages (from python-dateutil>=2.6.1->pandas==1.0.1) (1.14.0)\n",
      "Requirement already satisfied: numpy==1.18.1 in /home/ec2-user/anaconda3/envs/tensorflow_p36/lib/python3.6/site-packages (1.18.1)\n",
      "Requirement already satisfied: imblearn==0.0 in /home/ec2-user/anaconda3/envs/tensorflow_p36/lib/python3.6/site-packages (0.0)\n",
      "Requirement already satisfied: imbalanced-learn in /home/ec2-user/anaconda3/envs/tensorflow_p36/lib/python3.6/site-packages (from imblearn==0.0) (0.7.0)\n",
      "Requirement already satisfied: scikit-learn>=0.23 in /home/ec2-user/anaconda3/envs/tensorflow_p36/lib/python3.6/site-packages (from imbalanced-learn->imblearn==0.0) (0.23.2)\n",
      "Requirement already satisfied: numpy>=1.13.3 in /home/ec2-user/anaconda3/envs/tensorflow_p36/lib/python3.6/site-packages (from imbalanced-learn->imblearn==0.0) (1.18.1)\n",
      "Requirement already satisfied: joblib>=0.11 in /home/ec2-user/anaconda3/envs/tensorflow_p36/lib/python3.6/site-packages (from imbalanced-learn->imblearn==0.0) (0.14.1)\n",
      "Requirement already satisfied: scipy>=0.19.1 in /home/ec2-user/anaconda3/envs/tensorflow_p36/lib/python3.6/site-packages (from imbalanced-learn->imblearn==0.0) (1.4.1)\n",
      "Requirement already satisfied: threadpoolctl>=2.0.0 in /home/ec2-user/anaconda3/envs/tensorflow_p36/lib/python3.6/site-packages (from scikit-learn>=0.23->imbalanced-learn->imblearn==0.0) (2.1.0)\n",
      "Requirement already satisfied: xgboost==1.2.1 in /home/ec2-user/anaconda3/envs/tensorflow_p36/lib/python3.6/site-packages (1.2.1)\n",
      "Requirement already satisfied: numpy in /home/ec2-user/anaconda3/envs/tensorflow_p36/lib/python3.6/site-packages (from xgboost==1.2.1) (1.18.1)\n",
      "Requirement already satisfied: scipy in /home/ec2-user/anaconda3/envs/tensorflow_p36/lib/python3.6/site-packages (from xgboost==1.2.1) (1.4.1)\n"
     ]
    }
   ],
   "source": [
    "!pip install -U pip\n",
    "!pip install pandas==1.0.1\n",
    "!pip install numpy==1.18.1\n",
    "!pip install imblearn==0.0\n",
    "!pip install xgboost==1.2.1"
   ]
  },
  {
   "cell_type": "code",
   "execution_count": 2,
   "metadata": {},
   "outputs": [],
   "source": [
    "import pandas as pd\n",
    "import numpy as np\n",
    "from collections import Counter\n",
    "from imblearn.over_sampling import SMOTE"
   ]
  },
  {
   "cell_type": "code",
   "execution_count": 3,
   "metadata": {},
   "outputs": [],
   "source": [
    "# Seed randômico para garantir reprodutibilidade\n",
    "# em relação à base amostral\n",
    "SEED=42"
   ]
  },
  {
   "cell_type": "code",
   "execution_count": 4,
   "metadata": {},
   "outputs": [],
   "source": [
    "# Carga dos dados e ajuste das colunas\n",
    "df_bytebank = pd.read_csv('dados/bytebank_credito.csv')\n",
    "\n",
    "df_bytebank.columns \\\n",
    "    = [\n",
    "        'ID',\n",
    "        'CREDITO_CONCEDIDO',\n",
    "        'GENERO',\n",
    "        'ESCOLARIDADE',\n",
    "        'ESTADO_CIVIL',\n",
    "        'IDADE',\n",
    "        'ATRASO_PARCELA_M_0',\n",
    "        'ATRASO_PARCELA_M_2',\n",
    "        'ATRASO_PARCELA_M_3',\n",
    "        'ATRASO_PARCELA_M_4',\n",
    "        'ATRASO_PARCELA_M_5',\n",
    "        'ATRASO_PARCELA_M_6',\n",
    "        'SALDO_PAGO_PARCELA_1',\n",
    "        'SALDO_PAGO_PARCELA_2',\n",
    "        'SALDO_PAGO_PARCELA_3',\n",
    "        'SALDO_PAGO_PARCELA_4',\n",
    "        'SALDO_PAGO_PARCELA_5',\n",
    "        'SALDO_PAGO_PARCELA_6',\n",
    "        'VALOR_PAGAMENTO_ANTERIOR_1',\n",
    "        'VALOR_PAGAMENTO_ANTERIOR_2',\n",
    "        'VALOR_PAGAMENTO_ANTERIOR_3',\n",
    "        'VALOR_PAGAMENTO_ANTERIOR_4',\n",
    "        'VALOR_PAGAMENTO_ANTERIOR_5',\n",
    "        'VALOR_PAGAMENTO_ANTERIOR_6',\n",
    "        'INADIMPLENTE'\n",
    "    ]"
   ]
  },
  {
   "cell_type": "code",
   "execution_count": 5,
   "metadata": {},
   "outputs": [],
   "source": [
    "# Vamos remover a coluna ID pois ela não \n",
    "# não será necessária no nosso treinamento\n",
    "del df_bytebank['ID']"
   ]
  },
  {
   "cell_type": "code",
   "execution_count": 6,
   "metadata": {},
   "outputs": [
    {
     "data": {
      "text/plain": [
       "INADIMPLENTE\n",
       "0    23364\n",
       "1     6636\n",
       "dtype: int64"
      ]
     },
     "execution_count": 6,
     "metadata": {},
     "output_type": "execute_result"
    }
   ],
   "source": [
    "# Proporção de dados de inadimplência\n",
    "df_bytebank.groupby(['INADIMPLENTE']).size()"
   ]
  },
  {
   "cell_type": "code",
   "execution_count": 7,
   "metadata": {},
   "outputs": [],
   "source": [
    "# Geração de conjunto de dados para criação de\n",
    "# novos registros (oversampling)\n",
    "X = df_bytebank.iloc[:, 0:23]\n",
    "y = df_bytebank.INADIMPLENTE"
   ]
  },
  {
   "cell_type": "code",
   "execution_count": 8,
   "metadata": {},
   "outputs": [],
   "source": [
    "# Vamos fazer a criação de registros\n",
    "# para a classe de inadimplentes\n",
    "# INADIMPLENTE=1 e vamos usar o \n",
    "# metodo \"fit_resample\" para criar as amostras\n",
    "oversample = SMOTE(sampling_strategy ='minority',\n",
    "                   n_jobs=-1,\n",
    "                   random_state=SEED)\n",
    "\n",
    "X, y = oversample.fit_resample(X, y)"
   ]
  },
  {
   "cell_type": "code",
   "execution_count": 9,
   "metadata": {},
   "outputs": [
    {
     "data": {
      "text/plain": [
       "Counter({1: 23364, 0: 23364})"
      ]
     },
     "execution_count": 9,
     "metadata": {},
     "output_type": "execute_result"
    }
   ],
   "source": [
    "# Vamos checar as proporções da nossa base\n",
    "Counter(y)"
   ]
  },
  {
   "cell_type": "code",
   "execution_count": 10,
   "metadata": {},
   "outputs": [],
   "source": [
    "# Vamos colocar a coluna \"INADIMPLENTE\" na primeira posição \n",
    "# do dataframe. Esse é o formato no qual o Sage Maker trabalha\n",
    "# para reaizar os ajustes (fit) do modelo\n",
    "y = pd.DataFrame(y)\n",
    "y.columns = ['INADIMPLENTE']\n",
    "\n",
    "df_bytebank = \\\n",
    "    pd.concat([y,\n",
    "               X], axis=1)"
   ]
  },
  {
   "cell_type": "code",
   "execution_count": 11,
   "metadata": {},
   "outputs": [],
   "source": [
    "# Embaralhamento da base de dados\n",
    "df_bytebank = df_bytebank.sample(frac=1)"
   ]
  },
  {
   "cell_type": "code",
   "execution_count": 12,
   "metadata": {},
   "outputs": [],
   "source": [
    "# Geração de array randomico \n",
    "# para escolha via de partes \n",
    "# do dataframe\n",
    "np.random.seed(SEED)\n",
    "probabilidade = np.random.rand(len(df_bytebank))\n",
    "\n",
    "treino_registros = probabilidade < 0.7\n",
    "teste_registros = (probabilidade >= 0.7) & (probabilidade < 0.85)\n",
    "validacao_registros = probabilidade >= 0.85\n",
    "\n",
    "df_bytebank_treino = df_bytebank[treino_registros]\n",
    "df_bytebank_teste = df_bytebank[teste_registros]\n",
    "df_bytebank_validacao = df_bytebank[validacao_registros]\n",
    "\n",
    "# Vamos salvar localmente os arquivos em CSV\n",
    "# já realizando a remoção do índice\n",
    "df_bytebank_treino.to_csv('dados/df_bytebank_treino.csv', index=None)\n",
    "df_bytebank_teste.to_csv('dados/df_bytebank_teste.csv', index=None)\n",
    "df_bytebank_validacao.to_csv('dados/df_bytebank_validacao.csv', index=None)"
   ]
  },
  {
   "cell_type": "markdown",
   "metadata": {},
   "source": [
    "### Referências\n",
    "\n",
    "[SMOTE with Imbalance Data](https://www.kaggle.com/qianchao/smote-with-imbalance-data)\n",
    "\n",
    "[How do I create test and train samples from one dataframe with pandas?](https://stackoverflow.com/questions/24147278/how-do-i-create-test-and-train-samples-from-one-dataframe-with-pandas)\n",
    "\n",
    "[choosing features with random forest (80% acc)](https://www.kaggle.com/drproduck/choosing-features-with-random-forest-80-acc)\n",
    "\n",
    "[SMOTE for Imbalanced Classification with Python](https://machinelearningmastery.com/smote-oversampling-for-imbalanced-classification/)"
   ]
  }
 ],
 "metadata": {
  "kernelspec": {
   "display_name": "conda_tensorflow_p36",
   "language": "python",
   "name": "conda_tensorflow_p36"
  },
  "language_info": {
   "codemirror_mode": {
    "name": "ipython",
    "version": 3
   },
   "file_extension": ".py",
   "mimetype": "text/x-python",
   "name": "python",
   "nbconvert_exporter": "python",
   "pygments_lexer": "ipython3",
   "version": "3.6.10"
  }
 },
 "nbformat": 4,
 "nbformat_minor": 4
}
