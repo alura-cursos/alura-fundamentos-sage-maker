{
 "cells": [
  {
   "cell_type": "code",
   "execution_count": 1,
   "metadata": {
    "scrolled": true
   },
   "outputs": [
    {
     "name": "stdout",
     "output_type": "stream",
     "text": [
      "Requirement already satisfied: pip in /home/ec2-user/anaconda3/envs/tensorflow_p36/lib/python3.6/site-packages (21.0.1)\n",
      "Requirement already satisfied: pandas==1.0.1 in /home/ec2-user/anaconda3/envs/tensorflow_p36/lib/python3.6/site-packages (1.0.1)\n",
      "Requirement already satisfied: pytz>=2017.2 in /home/ec2-user/anaconda3/envs/tensorflow_p36/lib/python3.6/site-packages (from pandas==1.0.1) (2019.3)\n",
      "Requirement already satisfied: numpy>=1.13.3 in /home/ec2-user/anaconda3/envs/tensorflow_p36/lib/python3.6/site-packages (from pandas==1.0.1) (1.19.5)\n",
      "Requirement already satisfied: python-dateutil>=2.6.1 in /home/ec2-user/anaconda3/envs/tensorflow_p36/lib/python3.6/site-packages (from pandas==1.0.1) (2.8.1)\n",
      "Requirement already satisfied: six>=1.5 in /home/ec2-user/anaconda3/envs/tensorflow_p36/lib/python3.6/site-packages (from python-dateutil>=2.6.1->pandas==1.0.1) (1.15.0)\n"
     ]
    }
   ],
   "source": [
    "!pip install -U pip\n",
    "!pip install pandas==1.0.1"
   ]
  },
  {
   "cell_type": "code",
   "execution_count": 2,
   "metadata": {},
   "outputs": [],
   "source": [
    "import pandas as pd"
   ]
  },
  {
   "cell_type": "code",
   "execution_count": 3,
   "metadata": {},
   "outputs": [],
   "source": [
    "# Vamos salvar localmente os arquivos em CSV\n",
    "# já realizando a remoção do índice\n",
    "df_bytebank_treino = pd.read_csv('dados/df_bytebank_treino.csv')\n",
    "df_bytebank_teste = pd.read_csv('dados/df_bytebank_teste.csv')\n",
    "df_bytebank_validacao = pd.read_csv('dados/df_bytebank_validacao.csv')"
   ]
  },
  {
   "cell_type": "markdown",
   "metadata": {},
   "source": [
    "Variáveis independentes:\n",
    "\n",
    "    - CREDITO_CONCEDIDO: Valor do crédito concedido\n",
    "    - GENERO: (1 = masculino, 2 = feminino)\n",
    "    - ESCOLARIDADE: (1 = pós-graduação, 2 = universidade, 3 = ensino médio, 4 = outros, 5 = desconhecido, 6 = desconhecido)\n",
    "    - ESTADO_CIVIL: Estado civil (1 = casado, 2 = solteiro, 3 = outros)\n",
    "    - IDADE: Idade em anos\n",
    "    - ATRASO_PARCELA_M_0: Status do pagamento no mês 9 (-1 = pagamento no prazo, 1 = atraso no pagamento por um mês, 2 = atraso no pagamento por dois meses, ... 8 = atraso no pagamento por oito meses, 9 = atraso no pagamento por nove meses etc)\n",
    "    - ATRASO_PARCELA_M_2: Status do pagamento no mês 8 (escala igual à anterior)\n",
    "    - ATRASO_PARCELA_M_3: Status do pagamento no mês 7\n",
    "    - ATRASO_PARCELA_M_4: Status do pagamento no mês 6\n",
    "    - ATRASO_PARCELA_M_5: Status do pagamento no mês 5\n",
    "    - ATRASO_PARCELA_M_9: Status do pagamento no mês 4\n",
    "    - SALDO_PAGO_PARCELA_1: Valor da fatura no mês 9\n",
    "    - SALDO_PAGO_PARCELA_2: Valor da fatura no mês 8\n",
    "    - SALDO_PAGO_PARCELA_3: Valor da fatura no mês 7\n",
    "    - SALDO_PAGO_PARCELA_4: Valor da fatura no mês 6\n",
    "    - SALDO_PAGO_PARCELA_5: Valor da fatura no mês 5\n",
    "    - SALDO_PAGO_PARCELA_6: Valor da fatura no mês 4\n",
    "    - VALOR_PAGAMENTO_ANTERIOR_1: Valor pago no mês 9\n",
    "    - VALOR_PAGAMENTO_ANTERIOR_2: Valor pago no mês 8\n",
    "    - VALOR_PAGAMENTO_ANTERIOR_3: Valor pago no mês 7\n",
    "    - VALOR_PAGAMENTO_ANTERIOR_4: Valor pago no mês 6\n",
    "    - VALOR_PAGAMENTO_ANTERIOR_5: Valor pago no mês 5\n",
    "    - VALOR_PAGAMENTO_ANTERIOR_6: Valor pago no mês 4\n",
    "\n",
    "Variável dependente:\n",
    "\n",
    "    - INADIMPLENTE: (1=inadimplente, 0=adimplente)"
   ]
  },
  {
   "cell_type": "code",
   "execution_count": 4,
   "metadata": {},
   "outputs": [
    {
     "data": {
      "text/plain": [
       "INADIMPLENTE\n",
       "0    16454\n",
       "1    16394\n",
       "dtype: int64"
      ]
     },
     "execution_count": 4,
     "metadata": {},
     "output_type": "execute_result"
    }
   ],
   "source": [
    "df_bytebank_treino.groupby(['INADIMPLENTE']).size()"
   ]
  },
  {
   "cell_type": "code",
   "execution_count": 5,
   "metadata": {},
   "outputs": [
    {
     "data": {
      "text/plain": [
       "<matplotlib.axes._subplots.AxesSubplot at 0x7fbd02315cf8>"
      ]
     },
     "execution_count": 5,
     "metadata": {},
     "output_type": "execute_result"
    },
    {
     "data": {
      "image/png": "[encoded data removed]",
      "text/plain": [
       "<Figure size 432x288 with 1 Axes>"
      ]
     },
     "metadata": {
      "needs_background": "light"
     },
     "output_type": "display_data"
    }
   ],
   "source": [
    "df_bytebank_treino['CREDITO_CONCEDIDO'].hist(bins=5)"
   ]
  },
  {
   "cell_type": "code",
   "execution_count": null,
   "metadata": {},
   "outputs": [],
   "source": []
  }
 ],
 "metadata": {
  "kernelspec": {
   "display_name": "conda_tensorflow_p36",
   "language": "python",
   "name": "conda_tensorflow_p36"
  },
  "language_info": {
   "codemirror_mode": {
    "name": "ipython",
    "version": 3
   },
   "file_extension": ".py",
   "mimetype": "text/x-python",
   "name": "python",
   "nbconvert_exporter": "python",
   "pygments_lexer": "ipython3",
   "version": "3.6.10"
  }
 },
 "nbformat": 4,
 "nbformat_minor": 4
}
