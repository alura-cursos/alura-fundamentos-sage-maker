{
 "cells": [
  {
   "cell_type": "markdown",
   "metadata": {},
   "source": [
    "# Instalação de bibliotecas no ambiente do Sage Maker"
   ]
  },
  {
   "cell_type": "code",
   "execution_count": 1,
   "metadata": {},
   "outputs": [
    {
     "name": "stdout",
     "output_type": "stream",
     "text": [
      "Requirement already satisfied: pip in /home/ec2-user/anaconda3/envs/tensorflow_p36/lib/python3.6/site-packages (20.3.3)\n",
      "Collecting pip\n",
      "  Using cached pip-21.0.1-py3-none-any.whl (1.5 MB)\n",
      "Installing collected packages: pip\n",
      "  Attempting uninstall: pip\n",
      "    Found existing installation: pip 20.3.3\n",
      "    Uninstalling pip-20.3.3:\n",
      "      Successfully uninstalled pip-20.3.3\n",
      "Successfully installed pip-21.0.1\n",
      "Collecting sagemaker==2.15.3\n",
      "  Downloading sagemaker-2.15.3.tar.gz (310 kB)\n",
      "\u001b[K     |████████████████████████████████| 310 kB 17.3 MB/s eta 0:00:01\n",
      "\u001b[?25hRequirement already satisfied: boto3>=1.14.12 in /home/ec2-user/anaconda3/envs/tensorflow_p36/lib/python3.6/site-packages (from sagemaker==2.15.3) (1.16.63)\n",
      "Requirement already satisfied: google-pasta in /home/ec2-user/anaconda3/envs/tensorflow_p36/lib/python3.6/site-packages (from sagemaker==2.15.3) (0.2.0)\n",
      "Requirement already satisfied: numpy>=1.9.0 in /home/ec2-user/anaconda3/envs/tensorflow_p36/lib/python3.6/site-packages (from sagemaker==2.15.3) (1.19.5)\n",
      "Requirement already satisfied: protobuf>=3.1 in /home/ec2-user/anaconda3/envs/tensorflow_p36/lib/python3.6/site-packages (from sagemaker==2.15.3) (3.14.0)\n",
      "Requirement already satisfied: protobuf3-to-dict>=0.1.5 in /home/ec2-user/anaconda3/envs/tensorflow_p36/lib/python3.6/site-packages (from sagemaker==2.15.3) (0.1.5)\n",
      "Collecting smdebug-rulesconfig==0.1.5\n",
      "  Downloading smdebug_rulesconfig-0.1.5-py2.py3-none-any.whl (6.2 kB)\n",
      "Requirement already satisfied: importlib-metadata>=1.4.0 in /home/ec2-user/anaconda3/envs/tensorflow_p36/lib/python3.6/site-packages (from sagemaker==2.15.3) (3.4.0)\n",
      "Requirement already satisfied: packaging>=20.0 in /home/ec2-user/anaconda3/envs/tensorflow_p36/lib/python3.6/site-packages (from sagemaker==2.15.3) (20.8)\n",
      "Requirement already satisfied: botocore<1.20.0,>=1.19.63 in /home/ec2-user/anaconda3/envs/tensorflow_p36/lib/python3.6/site-packages (from boto3>=1.14.12->sagemaker==2.15.3) (1.19.63)\n",
      "Requirement already satisfied: s3transfer<0.4.0,>=0.3.0 in /home/ec2-user/anaconda3/envs/tensorflow_p36/lib/python3.6/site-packages (from boto3>=1.14.12->sagemaker==2.15.3) (0.3.4)\n",
      "Requirement already satisfied: jmespath<1.0.0,>=0.7.1 in /home/ec2-user/anaconda3/envs/tensorflow_p36/lib/python3.6/site-packages (from boto3>=1.14.12->sagemaker==2.15.3) (0.10.0)\n",
      "Requirement already satisfied: urllib3<1.27,>=1.25.4 in /home/ec2-user/anaconda3/envs/tensorflow_p36/lib/python3.6/site-packages (from botocore<1.20.0,>=1.19.63->boto3>=1.14.12->sagemaker==2.15.3) (1.26.2)\n",
      "Requirement already satisfied: python-dateutil<3.0.0,>=2.1 in /home/ec2-user/anaconda3/envs/tensorflow_p36/lib/python3.6/site-packages (from botocore<1.20.0,>=1.19.63->boto3>=1.14.12->sagemaker==2.15.3) (2.8.1)\n",
      "Requirement already satisfied: zipp>=0.5 in /home/ec2-user/anaconda3/envs/tensorflow_p36/lib/python3.6/site-packages (from importlib-metadata>=1.4.0->sagemaker==2.15.3) (3.4.0)\n",
      "Requirement already satisfied: typing-extensions>=3.6.4 in /home/ec2-user/anaconda3/envs/tensorflow_p36/lib/python3.6/site-packages (from importlib-metadata>=1.4.0->sagemaker==2.15.3) (3.7.4.3)\n",
      "Requirement already satisfied: pyparsing>=2.0.2 in /home/ec2-user/anaconda3/envs/tensorflow_p36/lib/python3.6/site-packages (from packaging>=20.0->sagemaker==2.15.3) (2.4.7)\n",
      "Requirement already satisfied: six>=1.9 in /home/ec2-user/anaconda3/envs/tensorflow_p36/lib/python3.6/site-packages (from protobuf>=3.1->sagemaker==2.15.3) (1.15.0)\n",
      "Building wheels for collected packages: sagemaker\n",
      "  Building wheel for sagemaker (setup.py) ... \u001b[?25ldone\n",
      "\u001b[?25h  Created wheel for sagemaker: filename=sagemaker-2.15.3-py2.py3-none-any.whl size=433930 sha256=feefe33d943e2622f431b7c707e047727a1bcd13001b11d4077b95d77f67ab18\n",
      "  Stored in directory: /home/ec2-user/.cache/pip/wheels/7f/61/00/79808d56a79af25eeb721c35bcd75f4a695092cac8eb2668ab\n",
      "Successfully built sagemaker\n",
      "Installing collected packages: smdebug-rulesconfig, sagemaker\n",
      "  Attempting uninstall: smdebug-rulesconfig\n",
      "    Found existing installation: smdebug-rulesconfig 1.0.1\n",
      "    Uninstalling smdebug-rulesconfig-1.0.1:\n",
      "      Successfully uninstalled smdebug-rulesconfig-1.0.1\n",
      "  Attempting uninstall: sagemaker\n",
      "    Found existing installation: sagemaker 2.24.1\n",
      "    Uninstalling sagemaker-2.24.1:\n",
      "      Successfully uninstalled sagemaker-2.24.1\n",
      "Successfully installed sagemaker-2.15.3 smdebug-rulesconfig-0.1.5\n",
      "Collecting boto3==1.16.2\n",
      "  Downloading boto3-1.16.2-py2.py3-none-any.whl (129 kB)\n",
      "\u001b[K     |████████████████████████████████| 129 kB 17.2 MB/s eta 0:00:01\n",
      "\u001b[?25hRequirement already satisfied: s3transfer<0.4.0,>=0.3.0 in /home/ec2-user/anaconda3/envs/tensorflow_p36/lib/python3.6/site-packages (from boto3==1.16.2) (0.3.4)\n",
      "Requirement already satisfied: botocore<1.20.0,>=1.19.2 in /home/ec2-user/anaconda3/envs/tensorflow_p36/lib/python3.6/site-packages (from boto3==1.16.2) (1.19.63)\n",
      "Requirement already satisfied: jmespath<1.0.0,>=0.7.1 in /home/ec2-user/anaconda3/envs/tensorflow_p36/lib/python3.6/site-packages (from boto3==1.16.2) (0.10.0)\n",
      "Requirement already satisfied: python-dateutil<3.0.0,>=2.1 in /home/ec2-user/anaconda3/envs/tensorflow_p36/lib/python3.6/site-packages (from botocore<1.20.0,>=1.19.2->boto3==1.16.2) (2.8.1)\n",
      "Requirement already satisfied: urllib3<1.27,>=1.25.4 in /home/ec2-user/anaconda3/envs/tensorflow_p36/lib/python3.6/site-packages (from botocore<1.20.0,>=1.19.2->boto3==1.16.2) (1.26.2)\n",
      "Requirement already satisfied: six>=1.5 in /home/ec2-user/anaconda3/envs/tensorflow_p36/lib/python3.6/site-packages (from python-dateutil<3.0.0,>=2.1->botocore<1.20.0,>=1.19.2->boto3==1.16.2) (1.15.0)\n",
      "Installing collected packages: boto3\n",
      "  Attempting uninstall: boto3\n",
      "    Found existing installation: boto3 1.16.63\n",
      "    Uninstalling boto3-1.16.63:\n",
      "      Successfully uninstalled boto3-1.16.63\n",
      "Successfully installed boto3-1.16.2\n",
      "Requirement already satisfied: pandas==1.0.1 in /home/ec2-user/anaconda3/envs/tensorflow_p36/lib/python3.6/site-packages (1.0.1)\n",
      "Requirement already satisfied: pytz>=2017.2 in /home/ec2-user/anaconda3/envs/tensorflow_p36/lib/python3.6/site-packages (from pandas==1.0.1) (2019.3)\n",
      "Requirement already satisfied: numpy>=1.13.3 in /home/ec2-user/anaconda3/envs/tensorflow_p36/lib/python3.6/site-packages (from pandas==1.0.1) (1.19.5)\n",
      "Requirement already satisfied: python-dateutil>=2.6.1 in /home/ec2-user/anaconda3/envs/tensorflow_p36/lib/python3.6/site-packages (from pandas==1.0.1) (2.8.1)\n",
      "Requirement already satisfied: six>=1.5 in /home/ec2-user/anaconda3/envs/tensorflow_p36/lib/python3.6/site-packages (from python-dateutil>=2.6.1->pandas==1.0.1) (1.15.0)\n",
      "Collecting numpy==1.18.1\n",
      "  Downloading numpy-1.18.1-cp36-cp36m-manylinux1_x86_64.whl (20.1 MB)\n",
      "\u001b[K     |████████████████████████████████| 20.1 MB 16.1 MB/s eta 0:00:01\n",
      "\u001b[?25hInstalling collected packages: numpy\n",
      "  Attempting uninstall: numpy\n",
      "    Found existing installation: numpy 1.19.5\n",
      "    Uninstalling numpy-1.19.5:\n",
      "      Successfully uninstalled numpy-1.19.5\n",
      "Successfully installed numpy-1.18.1\n",
      "Collecting matplotlib==3.3.3\n",
      "  Downloading matplotlib-3.3.3-cp36-cp36m-manylinux1_x86_64.whl (11.6 MB)\n",
      "\u001b[K     |████████████████████████████████| 11.6 MB 18.1 MB/s eta 0:00:01\n",
      "\u001b[?25hRequirement already satisfied: numpy>=1.15 in /home/ec2-user/anaconda3/envs/tensorflow_p36/lib/python3.6/site-packages (from matplotlib==3.3.3) (1.18.1)\n",
      "Requirement already satisfied: pyparsing!=2.0.4,!=2.1.2,!=2.1.6,>=2.0.3 in /home/ec2-user/anaconda3/envs/tensorflow_p36/lib/python3.6/site-packages (from matplotlib==3.3.3) (2.4.7)\n",
      "Requirement already satisfied: python-dateutil>=2.1 in /home/ec2-user/anaconda3/envs/tensorflow_p36/lib/python3.6/site-packages (from matplotlib==3.3.3) (2.8.1)\n",
      "Requirement already satisfied: cycler>=0.10 in /home/ec2-user/anaconda3/envs/tensorflow_p36/lib/python3.6/site-packages (from matplotlib==3.3.3) (0.10.0)\n",
      "Requirement already satisfied: pillow>=6.2.0 in /home/ec2-user/anaconda3/envs/tensorflow_p36/lib/python3.6/site-packages (from matplotlib==3.3.3) (7.0.0)\n",
      "Requirement already satisfied: kiwisolver>=1.0.1 in /home/ec2-user/anaconda3/envs/tensorflow_p36/lib/python3.6/site-packages (from matplotlib==3.3.3) (1.1.0)\n",
      "Requirement already satisfied: six in /home/ec2-user/anaconda3/envs/tensorflow_p36/lib/python3.6/site-packages (from cycler>=0.10->matplotlib==3.3.3) (1.15.0)\n",
      "Requirement already satisfied: setuptools in /home/ec2-user/anaconda3/envs/tensorflow_p36/lib/python3.6/site-packages (from kiwisolver>=1.0.1->matplotlib==3.3.3) (45.2.0.post20200210)\n"
     ]
    },
    {
     "name": "stdout",
     "output_type": "stream",
     "text": [
      "Installing collected packages: matplotlib\n",
      "  Attempting uninstall: matplotlib\n",
      "    Found existing installation: matplotlib 3.2.1\n",
      "    Uninstalling matplotlib-3.2.1:\n",
      "      Successfully uninstalled matplotlib-3.2.1\n",
      "Successfully installed matplotlib-3.3.3\n",
      "Collecting scikit-learn==0.24.0\n",
      "  Downloading scikit_learn-0.24.0-cp36-cp36m-manylinux2010_x86_64.whl (22.2 MB)\n",
      "\u001b[K     |████████████████████████████████| 22.2 MB 10.7 MB/s eta 0:00:01\n",
      "\u001b[?25hCollecting threadpoolctl>=2.0.0\n",
      "  Downloading threadpoolctl-2.1.0-py3-none-any.whl (12 kB)\n",
      "Requirement already satisfied: joblib>=0.11 in /home/ec2-user/anaconda3/envs/tensorflow_p36/lib/python3.6/site-packages (from scikit-learn==0.24.0) (0.14.1)\n",
      "Requirement already satisfied: scipy>=0.19.1 in /home/ec2-user/anaconda3/envs/tensorflow_p36/lib/python3.6/site-packages (from scikit-learn==0.24.0) (1.4.1)\n",
      "Requirement already satisfied: numpy>=1.13.3 in /home/ec2-user/anaconda3/envs/tensorflow_p36/lib/python3.6/site-packages (from scikit-learn==0.24.0) (1.18.1)\n",
      "Installing collected packages: threadpoolctl, scikit-learn\n",
      "  Attempting uninstall: scikit-learn\n",
      "    Found existing installation: scikit-learn 0.22.1\n",
      "    Uninstalling scikit-learn-0.22.1:\n",
      "      Successfully uninstalled scikit-learn-0.22.1\n",
      "Successfully installed scikit-learn-0.24.0 threadpoolctl-2.1.0\n"
     ]
    }
   ],
   "source": [
    "!pip install -U pip\n",
    "!pip install sagemaker==2.15.3\n",
    "!pip install boto3==1.16.2\n",
    "!pip install pandas==1.0.1\n",
    "!pip install numpy==1.18.1\n",
    "!pip install matplotlib==3.3.3\n",
    "!pip install scikit-learn==0.24.0"
   ]
  },
  {
   "cell_type": "markdown",
   "metadata": {},
   "source": [
    "# Importação de bibiotecas e declaração de constantes"
   ]
  },
  {
   "cell_type": "code",
   "execution_count": 2,
   "metadata": {},
   "outputs": [],
   "source": [
    "# Importação do Boto3 e criação da sessão\n",
    "import boto3"
   ]
  },
  {
   "cell_type": "code",
   "execution_count": 3,
   "metadata": {},
   "outputs": [],
   "source": [
    "sessao_boto = boto3.Session(region_name='us-east-1')"
   ]
  },
  {
   "cell_type": "code",
   "execution_count": 4,
   "metadata": {},
   "outputs": [],
   "source": [
    "# Colocar a role de execução em uma constante\n",
    "from sagemaker import get_execution_role"
   ]
  },
  {
   "cell_type": "code",
   "execution_count": 5,
   "metadata": {},
   "outputs": [],
   "source": [
    "ROLE = get_execution_role()"
   ]
  },
  {
   "cell_type": "code",
   "execution_count": 6,
   "metadata": {},
   "outputs": [
    {
     "name": "stdout",
     "output_type": "stream",
     "text": [
      "arn:aws:iam::962752222089:role/service-role/AWSGlueServiceSageMakerNotebookRole-gdelt\n"
     ]
    }
   ],
   "source": [
    "print(ROLE)"
   ]
  },
  {
   "cell_type": "code",
   "execution_count": 7,
   "metadata": {},
   "outputs": [],
   "source": [
    "# Importar o Sage Maker SDK e criar uma sessão\n",
    "# realizando a referencia ao Boto3\n",
    "import sagemaker"
   ]
  },
  {
   "cell_type": "code",
   "execution_count": 8,
   "metadata": {},
   "outputs": [],
   "source": [
    "sessao_sagemaker_sdk = \\\n",
    "    sagemaker.Session(boto_session=sessao_boto)"
   ]
  },
  {
   "cell_type": "code",
   "execution_count": 9,
   "metadata": {},
   "outputs": [],
   "source": [
    "sessao_sagemaker_boto \\\n",
    "    = boto3.Session().client('sagemaker')"
   ]
  },
  {
   "cell_type": "code",
   "execution_count": 10,
   "metadata": {},
   "outputs": [],
   "source": [
    "BUCKET ='sagemaker-alura-engenharia-machine-learning'\n",
    "\n",
    "PREFIXO_DADOS = 'dados'\n",
    "\n",
    "PREFIXO_MODELOS = 'modelos'\n",
    "\n",
    "REGIAO = boto3.Session().region_name\n",
    "\n",
    "SEMENTE = 42"
   ]
  },
  {
   "cell_type": "code",
   "execution_count": 11,
   "metadata": {},
   "outputs": [],
   "source": [
    "import sys\n",
    "\n",
    "sys.path.append(\"./\")\n",
    "\n",
    "import io\n",
    "import time\n",
    "\n",
    "import os\n",
    "import numpy as np\n",
    "import pandas as pd\n",
    "import matplotlib.pyplot as plt\n",
    "import numpy as np\n",
    "\n",
    "from sklearn.metrics import accuracy_score\n",
    "from sklearn.metrics import classification_report\n",
    "from sklearn.metrics import confusion_matrix\n",
    "from sklearn.metrics import ConfusionMatrixDisplay\n",
    "\n",
    "from time import strftime, gmtime"
   ]
  },
  {
   "cell_type": "markdown",
   "metadata": {},
   "source": [
    "# Carga de dados no Amazon S3"
   ]
  },
  {
   "cell_type": "code",
   "execution_count": 12,
   "metadata": {},
   "outputs": [],
   "source": [
    "# Vamos colocar os caminhos em um dicionário\n",
    "# apenas para manter a simplicidade e a consistência\n",
    "# dos caminhos. Em caso de mudança, essa será refletida\n",
    "# em todas as partes do script.\n",
    "\n",
    "dict_caminho_dados = {\n",
    "    \"treino\": \"dados/df_bytebank_treino.csv\",\n",
    "    \"teste\": \"dados/df_bytebank_teste.csv\",\n",
    "    \"validacao\": \"dados/df_bytebank_validacao.csv\",    \n",
    "}"
   ]
  },
  {
   "cell_type": "code",
   "execution_count": 13,
   "metadata": {},
   "outputs": [
    {
     "data": {
      "text/plain": [
       "'dados/df_bytebank_treino.csv'"
      ]
     },
     "execution_count": 13,
     "metadata": {},
     "output_type": "execute_result"
    }
   ],
   "source": [
    "dict_caminho_dados['treino']"
   ]
  },
  {
   "cell_type": "code",
   "execution_count": 14,
   "metadata": {},
   "outputs": [],
   "source": [
    "# Agora vamos usar a nossa sessão do Boto3 (boto_session)\n",
    "# invocando o recurso S3 e em seguida passar o caminho \n",
    "# do nossos arquivos localmente, passando o caminho desses\n",
    "# arquivos que constam em nosso repositorio, e realizar \n",
    "# o upload desses arquivos para o S3\n",
    "\n",
    "from boto3.s3.transfer import TransferConfig\n",
    "gigabytes = 1024 ** 3\n",
    "configuracao = TransferConfig(multipart_threshold=5*gigabytes)\n",
    "\n",
    "\n",
    "# Vamos usar uma função para não repetir o mesmo código\n",
    "def upload_arquivos_para_s3(caminho_s3,\n",
    "                            caminho_local,\n",
    "                            bucket=BUCKET,\n",
    "                            prefix_data=PREFIXO_DADOS,\n",
    "                            configuracao=configuracao,\n",
    "                            sessao=sessao_boto\n",
    "                           ):\n",
    "    sessao.resource('s3').Bucket(bucket).\\\n",
    "        Object(os.path.join(prefix_data, caminho_s3))\\\n",
    "        .upload_file(caminho_local, Config=configuracao)"
   ]
  },
  {
   "cell_type": "code",
   "execution_count": 15,
   "metadata": {},
   "outputs": [],
   "source": [
    "upload_arquivos_para_s3(caminho_s3='treino/treino.csv',\n",
    "                       caminho_local=dict_caminho_dados['treino'])"
   ]
  },
  {
   "cell_type": "code",
   "execution_count": 16,
   "metadata": {},
   "outputs": [],
   "source": [
    "upload_arquivos_para_s3(caminho_s3='teste/teste.csv',\n",
    "                       caminho_local=dict_caminho_dados['teste'])"
   ]
  },
  {
   "cell_type": "code",
   "execution_count": 17,
   "metadata": {},
   "outputs": [],
   "source": [
    "upload_arquivos_para_s3(caminho_s3='validacao/validacao.csv',\n",
    "                       caminho_local=dict_caminho_dados['validacao'])"
   ]
  },
  {
   "cell_type": "markdown",
   "metadata": {},
   "source": [
    "# Imagens pré-construídas do Sage Maker"
   ]
  },
  {
   "cell_type": "code",
   "execution_count": 18,
   "metadata": {},
   "outputs": [],
   "source": [
    "# Buscar no registro a URI da imagem, e \n",
    "# criar a referencia do container que sera construido\n",
    "from sagemaker.image_uris import retrieve"
   ]
  },
  {
   "cell_type": "code",
   "execution_count": 19,
   "metadata": {},
   "outputs": [],
   "source": [
    "container = retrieve('xgboost',\n",
    "                     region=REGIAO,\n",
    "                     version='1.0-1')"
   ]
  },
  {
   "cell_type": "code",
   "execution_count": 20,
   "metadata": {},
   "outputs": [
    {
     "data": {
      "text/plain": [
       "'683313688378.dkr.ecr.us-east-1.amazonaws.com/sagemaker-xgboost:1.0-1-cpu-py3'"
      ]
     },
     "execution_count": 20,
     "metadata": {},
     "output_type": "execute_result"
    }
   ],
   "source": [
    "container"
   ]
  },
  {
   "cell_type": "markdown",
   "metadata": {},
   "source": [
    "# Definição de caminhos dos objetos e parâmetros de treinamento"
   ]
  },
  {
   "cell_type": "code",
   "execution_count": 21,
   "metadata": {},
   "outputs": [
    {
     "name": "stdout",
     "output_type": "stream",
     "text": [
      "sagemaker-alura-engenharia-machine-learning\n"
     ]
    }
   ],
   "source": [
    "print(BUCKET)"
   ]
  },
  {
   "cell_type": "code",
   "execution_count": 22,
   "metadata": {},
   "outputs": [
    {
     "name": "stdout",
     "output_type": "stream",
     "text": [
      "us-east-1\n"
     ]
    }
   ],
   "source": [
    "print(REGIAO)"
   ]
  },
  {
   "cell_type": "code",
   "execution_count": 23,
   "metadata": {},
   "outputs": [
    {
     "name": "stdout",
     "output_type": "stream",
     "text": [
      "modelos\n"
     ]
    }
   ],
   "source": [
    "print(PREFIXO_MODELOS)"
   ]
  },
  {
   "cell_type": "code",
   "execution_count": 24,
   "metadata": {},
   "outputs": [
    {
     "name": "stdout",
     "output_type": "stream",
     "text": [
      "dados\n"
     ]
    }
   ],
   "source": [
    "print(PREFIXO_DADOS)"
   ]
  },
  {
   "cell_type": "code",
   "execution_count": 25,
   "metadata": {},
   "outputs": [
    {
     "name": "stdout",
     "output_type": "stream",
     "text": [
      "S3 Caminho Output Modelo: https://sagemaker-alura-engenharia-machine-learning.s3.us-east-1.amazonaws.com/modelos/\n"
     ]
    }
   ],
   "source": [
    "s3_caminho_output_modelo \\\n",
    "    = f'https://{BUCKET}.s3.{REGIAO}.amazonaws.com/{PREFIXO_MODELOS}/'\n",
    "\n",
    "print(f'S3 Caminho Output Modelo: {s3_caminho_output_modelo}')"
   ]
  },
  {
   "cell_type": "code",
   "execution_count": 26,
   "metadata": {},
   "outputs": [
    {
     "name": "stdout",
     "output_type": "stream",
     "text": [
      "S3 Caminho Input Treino: https://sagemaker-alura-engenharia-machine-learning.s3.us-east-1.amazonaws.com/dados/treino/\n"
     ]
    }
   ],
   "source": [
    "s3_uri_input_treino \\\n",
    "    = f'https://{BUCKET}.s3.{REGIAO}.amazonaws.com/{PREFIXO_DADOS}/treino/'\n",
    "\n",
    "print(f'S3 Caminho Input Treino: {s3_uri_input_treino}')"
   ]
  },
  {
   "cell_type": "code",
   "execution_count": 27,
   "metadata": {},
   "outputs": [
    {
     "name": "stdout",
     "output_type": "stream",
     "text": [
      "S3 Caminho Input Teste: https://sagemaker-alura-engenharia-machine-learning.s3.us-east-1.amazonaws.com/dados/teste/\n"
     ]
    }
   ],
   "source": [
    "s3_uri_input_teste \\\n",
    "    = f'https://{BUCKET}.s3.{REGIAO}.amazonaws.com/{PREFIXO_DADOS}/teste/'\n",
    "\n",
    "print(f'S3 Caminho Input Teste: {s3_uri_input_teste}')"
   ]
  },
  {
   "cell_type": "markdown",
   "metadata": {},
   "source": [
    "# Definição de configurações do job de treinamento"
   ]
  },
  {
   "cell_type": "code",
   "execution_count": 28,
   "metadata": {},
   "outputs": [
    {
     "data": {
      "text/plain": [
       "'https://sagemaker-alura-engenharia-machine-learning.s3.us-east-1.amazonaws.com/dados/teste/'"
      ]
     },
     "execution_count": 28,
     "metadata": {},
     "output_type": "execute_result"
    }
   ],
   "source": [
    "s3_uri_input_teste"
   ]
  },
  {
   "cell_type": "code",
   "execution_count": 29,
   "metadata": {},
   "outputs": [],
   "source": [
    "parametros_comuns_treinamento = \\\n",
    "{\n",
    "    \"AlgorithmSpecification\": {\n",
    "        \"TrainingImage\": container,\n",
    "        \"TrainingInputMode\": \"File\"\n",
    "    },\n",
    "    \"RoleArn\": ROLE,\n",
    "    \"OutputDataConfig\": {\n",
    "        \"S3OutputPath\": s3_caminho_output_modelo\n",
    "    },\n",
    "    \"ResourceConfig\": {\n",
    "        \"InstanceCount\": 1,   \n",
    "        \"InstanceType\": \"ml.m4.xlarge\",\n",
    "        \"VolumeSizeInGB\": 5\n",
    "    },\n",
    "    \"HyperParameters\": {\n",
    "        \"max_depth\": \"7\",\n",
    "        \"subsample\": \"0.8\",\n",
    "        \"num_round\": \"10\",        \n",
    "        \"eta\": \"0.3\",\n",
    "        \"eval_metric\": \"error\",        \n",
    "        \"silent\":\"0\",\n",
    "        \"one_drop\":\"1\",\n",
    "        \"seed\": str(SEMENTE),        \n",
    "        \"objective\": \"binary:hinge\"\n",
    "    },\n",
    "    \"StoppingCondition\": {\n",
    "        \"MaxRuntimeInSeconds\": 600\n",
    "    },\n",
    "    \"InputDataConfig\": [\n",
    "        {\n",
    "            \"ChannelName\": \"train\",\n",
    "            \"DataSource\": {\n",
    "                \"S3DataSource\": {\n",
    "                    \"S3DataType\": \"S3Prefix\",\n",
    "                    \"S3Uri\": s3_uri_input_treino,\n",
    "                    \"S3DataDistributionType\": \"FullyReplicated\" \n",
    "                }\n",
    "            },\n",
    "            \"ContentType\": \"text/csv\",\n",
    "            \"CompressionType\": \"None\"\n",
    "        },\n",
    "        {\n",
    "            \"ChannelName\": \"validation\",\n",
    "            \"DataSource\": {\n",
    "                \"S3DataSource\": {\n",
    "                    \"S3DataType\": \"S3Prefix\",\n",
    "                    \"S3Uri\": s3_uri_input_teste,\n",
    "                    \"S3DataDistributionType\": \"FullyReplicated\"\n",
    "                }\n",
    "            },\n",
    "            \"ContentType\": \"text/csv\",\n",
    "            \"CompressionType\": \"None\"\n",
    "        }\n",
    "    ]\n",
    "}"
   ]
  },
  {
   "cell_type": "code",
   "execution_count": 30,
   "metadata": {},
   "outputs": [
    {
     "name": "stdout",
     "output_type": "stream",
     "text": [
      "Nome do Job de treinamento: bytebankPythonBoto20210215212527\n"
     ]
    }
   ],
   "source": [
    "nome_job_treinamento \\\n",
    "    = 'bytebankPythonBoto' + strftime(\"%Y%m%d%H%M%S\", gmtime())\n",
    "\n",
    "print(f\"Nome do Job de treinamento: {nome_job_treinamento}\")"
   ]
  },
  {
   "cell_type": "code",
   "execution_count": 31,
   "metadata": {},
   "outputs": [
    {
     "name": "stdout",
     "output_type": "stream",
     "text": [
      "\n",
      "Dados de treinamento no S3: https://sagemaker-alura-engenharia-machine-learning.s3.us-east-1.amazonaws.com/dados/treino/\n"
     ]
    }
   ],
   "source": [
    "s3_caminho_dados_treinamento \\\n",
    "    = parametros_comuns_treinamento['InputDataConfig'][0]['DataSource']['S3DataSource']['S3Uri']\n",
    "\n",
    "print(f\"\\nDados de treinamento no S3: {s3_caminho_dados_treinamento}\")"
   ]
  },
  {
   "cell_type": "code",
   "execution_count": 32,
   "metadata": {},
   "outputs": [
    {
     "name": "stdout",
     "output_type": "stream",
     "text": [
      "\n",
      "Dados de teste no S3: https://sagemaker-alura-engenharia-machine-learning.s3.us-east-1.amazonaws.com/dados/teste/\n"
     ]
    }
   ],
   "source": [
    "s3_caminho_dados_teste \\\n",
    "    = parametros_comuns_treinamento['InputDataConfig'][1]['DataSource']['S3DataSource']['S3Uri']\n",
    "\n",
    "print(f\"\\nDados de teste no S3: {s3_caminho_dados_teste}\")"
   ]
  },
  {
   "cell_type": "code",
   "execution_count": 33,
   "metadata": {},
   "outputs": [
    {
     "name": "stdout",
     "output_type": "stream",
     "text": [
      "\n",
      "Pasta no S3 para serialização do modelo: https://sagemaker-alura-engenharia-machine-learning.s3.us-east-1.amazonaws.com/modelos/\n"
     ]
    }
   ],
   "source": [
    "s3_caminho_modelo \\\n",
    "    = parametros_comuns_treinamento['OutputDataConfig']['S3OutputPath']\n",
    "\n",
    "print(f\"\\nPasta no S3 para serialização do modelo: {s3_caminho_modelo}\")"
   ]
  },
  {
   "cell_type": "code",
   "execution_count": 34,
   "metadata": {},
   "outputs": [
    {
     "data": {
      "text/plain": [
       "'bytebankPythonBoto20210215212527'"
      ]
     },
     "execution_count": 34,
     "metadata": {},
     "output_type": "execute_result"
    }
   ],
   "source": [
    "nome_job_treinamento"
   ]
  },
  {
   "cell_type": "code",
   "execution_count": 35,
   "metadata": {},
   "outputs": [],
   "source": [
    "import copy \n",
    "\n",
    "parametros_job_treinamento = copy.deepcopy(parametros_comuns_treinamento)\n",
    "\n",
    "parametros_job_treinamento['TrainingJobName'] = nome_job_treinamento\n",
    "\n",
    "parametros_job_treinamento['ResourceConfig']['InstanceCount'] = 1"
   ]
  },
  {
   "cell_type": "markdown",
   "metadata": {},
   "source": [
    "# Treinamento e criação do modelo"
   ]
  },
  {
   "cell_type": "code",
   "execution_count": 36,
   "metadata": {},
   "outputs": [
    {
     "data": {
      "text/plain": [
       "{'AlgorithmSpecification': {'TrainingImage': '683313688378.dkr.ecr.us-east-1.amazonaws.com/sagemaker-xgboost:1.0-1-cpu-py3',\n",
       "  'TrainingInputMode': 'File'},\n",
       " 'RoleArn': 'arn:aws:iam::962752222089:role/service-role/AWSGlueServiceSageMakerNotebookRole-gdelt',\n",
       " 'OutputDataConfig': {'S3OutputPath': 'https://sagemaker-alura-engenharia-machine-learning.s3.us-east-1.amazonaws.com/modelos/'},\n",
       " 'ResourceConfig': {'InstanceCount': 1,\n",
       "  'InstanceType': 'ml.m4.xlarge',\n",
       "  'VolumeSizeInGB': 5},\n",
       " 'HyperParameters': {'max_depth': '7',\n",
       "  'subsample': '0.8',\n",
       "  'num_round': '10',\n",
       "  'eta': '0.3',\n",
       "  'eval_metric': 'error',\n",
       "  'silent': '0',\n",
       "  'one_drop': '1',\n",
       "  'seed': '42',\n",
       "  'objective': 'binary:hinge'},\n",
       " 'StoppingCondition': {'MaxRuntimeInSeconds': 600},\n",
       " 'InputDataConfig': [{'ChannelName': 'train',\n",
       "   'DataSource': {'S3DataSource': {'S3DataType': 'S3Prefix',\n",
       "     'S3Uri': 'https://sagemaker-alura-engenharia-machine-learning.s3.us-east-1.amazonaws.com/dados/treino/',\n",
       "     'S3DataDistributionType': 'FullyReplicated'}},\n",
       "   'ContentType': 'text/csv',\n",
       "   'CompressionType': 'None'},\n",
       "  {'ChannelName': 'validation',\n",
       "   'DataSource': {'S3DataSource': {'S3DataType': 'S3Prefix',\n",
       "     'S3Uri': 'https://sagemaker-alura-engenharia-machine-learning.s3.us-east-1.amazonaws.com/dados/teste/',\n",
       "     'S3DataDistributionType': 'FullyReplicated'}},\n",
       "   'ContentType': 'text/csv',\n",
       "   'CompressionType': 'None'}],\n",
       " 'TrainingJobName': 'bytebankPythonBoto20210215212527'}"
      ]
     },
     "execution_count": 36,
     "metadata": {},
     "output_type": "execute_result"
    }
   ],
   "source": [
    "parametros_job_treinamento"
   ]
  },
  {
   "cell_type": "code",
   "execution_count": 37,
   "metadata": {},
   "outputs": [
    {
     "name": "stdout",
     "output_type": "stream",
     "text": [
      "Status do Treinamento: InProgress\n",
      "Treinamento finalizado: Completed\n"
     ]
    }
   ],
   "source": [
    "# Criação do job de treinamento\n",
    "sessao_sagemaker_boto.create_training_job(**parametros_job_treinamento)\n",
    "\n",
    "status = \\\n",
    "    sessao_sagemaker_boto.describe_training_job(\n",
    "    TrainingJobName=nome_job_treinamento)['TrainingJobStatus']\n",
    "print(f'Status do Treinamento: {status}')\n",
    "\n",
    "# Status do Job de treinamento via waiter\n",
    "sessao_sagemaker_boto.get_waiter('training_job_completed_or_stopped')\\\n",
    "    .wait(TrainingJobName=nome_job_treinamento)\n",
    "\n",
    "status = \\\n",
    "    sessao_sagemaker_boto.describe_training_job(\n",
    "    TrainingJobName=nome_job_treinamento)['TrainingJobStatus']\n",
    "print(f'Treinamento finalizado: {status}')\n",
    "\n",
    "# \"Monitoramento\" do status do Job de treinamento\n",
    "if status == 'Failed':\n",
    "    message = \\\n",
    "        sessao_sagemaker_boto\\\n",
    "        .describe_training_job(\n",
    "            TrainingJobName=nome_job_treinamento)['FailureReason']\n",
    "    print(f'Erro no treinamento devido ao problema: {message}')\n",
    "    raise Exception('O treinamento do modelo falhou')"
   ]
  },
  {
   "cell_type": "code",
   "execution_count": 38,
   "metadata": {},
   "outputs": [],
   "source": [
    "# Definição do nome do modelo \n",
    "nome_modelo = nome_job_treinamento + 'Model'\n",
    "\n",
    "# Informações sobre o job de treinamento\n",
    "info \\\n",
    "    = sessao_sagemaker_boto.describe_training_job(\n",
    "    TrainingJobName=nome_job_treinamento)\n",
    "\n",
    "# Informações onde os artefatos do modelo serão salvos\n",
    "dados_modelo = info['ModelArtifacts']['S3ModelArtifacts']"
   ]
  },
  {
   "cell_type": "code",
   "execution_count": 39,
   "metadata": {},
   "outputs": [
    {
     "name": "stdout",
     "output_type": "stream",
     "text": [
      "https://sagemaker-alura-engenharia-machine-learning.s3.us-east-1.amazonaws.com/modelos/bytebankPythonBoto20210215212527/output/model.tar.gz\n"
     ]
    }
   ],
   "source": [
    "print(dados_modelo)"
   ]
  },
  {
   "cell_type": "code",
   "execution_count": 40,
   "metadata": {},
   "outputs": [],
   "source": [
    "# Definição do container e de onde \n",
    "# o modelo sera serializado\n",
    "container_primario = {\n",
    "    'Image': container,\n",
    "    'ModelDataUrl': dados_modelo\n",
    "}"
   ]
  },
  {
   "cell_type": "code",
   "execution_count": 41,
   "metadata": {},
   "outputs": [
    {
     "data": {
      "text/plain": [
       "'bytebankPythonBoto20210215212527Model'"
      ]
     },
     "execution_count": 41,
     "metadata": {},
     "output_type": "execute_result"
    }
   ],
   "source": [
    "nome_modelo"
   ]
  },
  {
   "cell_type": "code",
   "execution_count": 42,
   "metadata": {},
   "outputs": [],
   "source": [
    "# Criacão do modelo no registro\n",
    "create_model_response \\\n",
    "    = sessao_sagemaker_boto.create_model(\n",
    "    ModelName = nome_modelo,\n",
    "    ExecutionRoleArn = ROLE,\n",
    "    PrimaryContainer =  container_primario\n",
    ")"
   ]
  },
  {
   "cell_type": "code",
   "execution_count": 43,
   "metadata": {},
   "outputs": [
    {
     "name": "stdout",
     "output_type": "stream",
     "text": [
      "arn:aws:sagemaker:us-east-1:962752222089:model/bytebankpythonboto20210215212527model\n"
     ]
    }
   ],
   "source": [
    "print(create_model_response['ModelArn'])"
   ]
  },
  {
   "cell_type": "markdown",
   "metadata": {},
   "source": [
    "# Configuração do endpoint"
   ]
  },
  {
   "cell_type": "code",
   "execution_count": 44,
   "metadata": {},
   "outputs": [
    {
     "name": "stdout",
     "output_type": "stream",
     "text": [
      "Nome da Configuração do Endpoint: bytebankXGBEndpointConfig20210215213038\n"
     ]
    }
   ],
   "source": [
    "# Nome da configuracao do endpoint\n",
    "nome_configuracao_endpoint \\\n",
    "    = 'bytebankXGBEndpointConfig' + strftime(\"%Y%m%d%H%M%S\", gmtime())\n",
    "print(f'Nome da Configuração do Endpoint: {nome_configuracao_endpoint}')"
   ]
  },
  {
   "cell_type": "code",
   "execution_count": 45,
   "metadata": {},
   "outputs": [
    {
     "data": {
      "text/plain": [
       "'bytebankPythonBoto20210215212527Model'"
      ]
     },
     "execution_count": 45,
     "metadata": {},
     "output_type": "execute_result"
    }
   ],
   "source": [
    "nome_modelo"
   ]
  },
  {
   "cell_type": "code",
   "execution_count": 46,
   "metadata": {},
   "outputs": [
    {
     "name": "stdout",
     "output_type": "stream",
     "text": [
      "\n",
      "Endpoint configurado no Arn: arn:aws:sagemaker:us-east-1:962752222089:endpoint-config/bytebankxgbendpointconfig20210215213038\n"
     ]
    }
   ],
   "source": [
    "# Criação da configuracao do endpoint\n",
    "create_endpoint_config_response \\\n",
    "    = sessao_sagemaker_boto.create_endpoint_config(\n",
    "        EndpointConfigName = nome_configuracao_endpoint,\n",
    "        ProductionVariants=[{\n",
    "            'InstanceType':'ml.m4.xlarge',\n",
    "            'InitialVariantWeight':1,\n",
    "            'InitialInstanceCount':1,\n",
    "            'ModelName':nome_modelo,\n",
    "            'VariantName':'TodoTrafego'}])\n",
    "\n",
    "print(\"\\nEndpoint configurado no Arn: \" + create_endpoint_config_response['EndpointConfigArn'])"
   ]
  },
  {
   "cell_type": "markdown",
   "metadata": {},
   "source": [
    "# Criação e deployment do modelo no Endpoint"
   ]
  },
  {
   "cell_type": "code",
   "execution_count": 47,
   "metadata": {},
   "outputs": [
    {
     "name": "stdout",
     "output_type": "stream",
     "text": [
      "Nome do Endpoint: bytebankXGBEndpoint20210215213041\n"
     ]
    }
   ],
   "source": [
    "nome_endpoint \\\n",
    "    = 'bytebankXGBEndpoint' + strftime(\"%Y%m%d%H%M%S\", gmtime())\n",
    "print(f'Nome do Endpoint: {nome_endpoint}')"
   ]
  },
  {
   "cell_type": "code",
   "execution_count": 48,
   "metadata": {},
   "outputs": [
    {
     "name": "stdout",
     "output_type": "stream",
     "text": [
      "bytebankXGBEndpointConfig20210215213038\n"
     ]
    }
   ],
   "source": [
    "print(nome_configuracao_endpoint)"
   ]
  },
  {
   "cell_type": "code",
   "execution_count": 49,
   "metadata": {},
   "outputs": [
    {
     "name": "stdout",
     "output_type": "stream",
     "text": [
      "arn:aws:sagemaker:us-east-1:962752222089:endpoint/bytebankxgbendpoint20210215213041\n"
     ]
    }
   ],
   "source": [
    "create_endpoint_response \\\n",
    "    = sessao_sagemaker_boto.create_endpoint(\n",
    "        EndpointName=nome_endpoint,\n",
    "        EndpointConfigName=nome_configuracao_endpoint)\n",
    "\n",
    "print(create_endpoint_response['EndpointArn'])"
   ]
  },
  {
   "cell_type": "code",
   "execution_count": 50,
   "metadata": {},
   "outputs": [
    {
     "name": "stdout",
     "output_type": "stream",
     "text": [
      "Status: Creating\n",
      "Status: Creating\n",
      "Status: Creating\n",
      "Status: Creating\n",
      "Status: Creating\n",
      "Status: Creating\n",
      "Status: Creating\n",
      "Status: Creating\n",
      "Status: Creating\n",
      "Status: Creating\n",
      "Status: Creating\n",
      "Status: Creating\n",
      "Status: Creating\n",
      "Status: Creating\n",
      "Status: Creating\n",
      "Status: Creating\n",
      "Status: Creating\n",
      "Status: Creating\n",
      "Status: Creating\n",
      "Status: Creating\n",
      "Status: Creating\n",
      "Status: Creating\n",
      "Status: InService\n",
      "Arn: arn:aws:sagemaker:us-east-1:962752222089:endpoint/bytebankxgbendpoint20210215213041\n",
      "Status: InService\n"
     ]
    }
   ],
   "source": [
    "resp = sessao_sagemaker_boto.describe_endpoint(EndpointName=nome_endpoint)\n",
    "status = resp['EndpointStatus']\n",
    "print(\"Status: \" + status)\n",
    "\n",
    "while status=='Creating':\n",
    "    time.sleep(20)\n",
    "    resp = sessao_sagemaker_boto.describe_endpoint(EndpointName=nome_endpoint)\n",
    "    status = resp['EndpointStatus']\n",
    "    print(\"Status: \" + status)\n",
    "\n",
    "print(\"Arn: \" + resp['EndpointArn'])\n",
    "print(\"Status: \" + status)"
   ]
  },
  {
   "cell_type": "markdown",
   "metadata": {},
   "source": [
    "# Chamada do modelo no endpoint"
   ]
  },
  {
   "cell_type": "code",
   "execution_count": 51,
   "metadata": {},
   "outputs": [
    {
     "data": {
      "text/plain": [
       "'dados/df_bytebank_validacao.csv'"
      ]
     },
     "execution_count": 51,
     "metadata": {},
     "output_type": "execute_result"
    }
   ],
   "source": [
    "dict_caminho_dados['validacao']"
   ]
  },
  {
   "cell_type": "code",
   "execution_count": 52,
   "metadata": {},
   "outputs": [
    {
     "data": {
      "text/html": [
       "<div>\n",
       "<style scoped>\n",
       "    .dataframe tbody tr th:only-of-type {\n",
       "        vertical-align: middle;\n",
       "    }\n",
       "\n",
       "    .dataframe tbody tr th {\n",
       "        vertical-align: top;\n",
       "    }\n",
       "\n",
       "    .dataframe thead th {\n",
       "        text-align: right;\n",
       "    }\n",
       "</style>\n",
       "<table border=\"1\" class=\"dataframe\">\n",
       "  <thead>\n",
       "    <tr style=\"text-align: right;\">\n",
       "      <th></th>\n",
       "      <th>INADIMPLENTE</th>\n",
       "      <th>CREDITO_CONCEDIDO</th>\n",
       "      <th>GENERO</th>\n",
       "      <th>ESCOLARIDADE</th>\n",
       "      <th>ESTADO_CIVIL</th>\n",
       "      <th>IDADE</th>\n",
       "      <th>ATRASO_PARCELA_M_0</th>\n",
       "      <th>ATRASO_PARCELA_M_2</th>\n",
       "      <th>ATRASO_PARCELA_M_3</th>\n",
       "      <th>ATRASO_PARCELA_M_4</th>\n",
       "      <th>...</th>\n",
       "      <th>SALDO_PAGO_PARCELA_3</th>\n",
       "      <th>SALDO_PAGO_PARCELA_4</th>\n",
       "      <th>SALDO_PAGO_PARCELA_5</th>\n",
       "      <th>SALDO_PAGO_PARCELA_6</th>\n",
       "      <th>VALOR_PAGAMENTO_ANTERIOR_1</th>\n",
       "      <th>VALOR_PAGAMENTO_ANTERIOR_2</th>\n",
       "      <th>VALOR_PAGAMENTO_ANTERIOR_3</th>\n",
       "      <th>VALOR_PAGAMENTO_ANTERIOR_4</th>\n",
       "      <th>VALOR_PAGAMENTO_ANTERIOR_5</th>\n",
       "      <th>VALOR_PAGAMENTO_ANTERIOR_6</th>\n",
       "    </tr>\n",
       "  </thead>\n",
       "  <tbody>\n",
       "    <tr>\n",
       "      <th>0</th>\n",
       "      <td>0</td>\n",
       "      <td>10000</td>\n",
       "      <td>1</td>\n",
       "      <td>2</td>\n",
       "      <td>2</td>\n",
       "      <td>24</td>\n",
       "      <td>2</td>\n",
       "      <td>0</td>\n",
       "      <td>0</td>\n",
       "      <td>0</td>\n",
       "      <td>...</td>\n",
       "      <td>4810</td>\n",
       "      <td>7546</td>\n",
       "      <td>9260</td>\n",
       "      <td>10000</td>\n",
       "      <td>3000</td>\n",
       "      <td>2000</td>\n",
       "      <td>3000</td>\n",
       "      <td>2000</td>\n",
       "      <td>1000</td>\n",
       "      <td>0</td>\n",
       "    </tr>\n",
       "    <tr>\n",
       "      <th>1</th>\n",
       "      <td>0</td>\n",
       "      <td>360000</td>\n",
       "      <td>1</td>\n",
       "      <td>2</td>\n",
       "      <td>1</td>\n",
       "      <td>45</td>\n",
       "      <td>2</td>\n",
       "      <td>2</td>\n",
       "      <td>-2</td>\n",
       "      <td>-2</td>\n",
       "      <td>...</td>\n",
       "      <td>0</td>\n",
       "      <td>0</td>\n",
       "      <td>0</td>\n",
       "      <td>0</td>\n",
       "      <td>0</td>\n",
       "      <td>0</td>\n",
       "      <td>0</td>\n",
       "      <td>0</td>\n",
       "      <td>0</td>\n",
       "      <td>0</td>\n",
       "    </tr>\n",
       "    <tr>\n",
       "      <th>2</th>\n",
       "      <td>0</td>\n",
       "      <td>280000</td>\n",
       "      <td>2</td>\n",
       "      <td>1</td>\n",
       "      <td>2</td>\n",
       "      <td>28</td>\n",
       "      <td>-1</td>\n",
       "      <td>-1</td>\n",
       "      <td>-1</td>\n",
       "      <td>0</td>\n",
       "      <td>...</td>\n",
       "      <td>10002</td>\n",
       "      <td>13476</td>\n",
       "      <td>23572</td>\n",
       "      <td>14603</td>\n",
       "      <td>3658</td>\n",
       "      <td>10020</td>\n",
       "      <td>10000</td>\n",
       "      <td>11000</td>\n",
       "      <td>14603</td>\n",
       "      <td>3819</td>\n",
       "    </tr>\n",
       "    <tr>\n",
       "      <th>3</th>\n",
       "      <td>1</td>\n",
       "      <td>52743</td>\n",
       "      <td>1</td>\n",
       "      <td>1</td>\n",
       "      <td>2</td>\n",
       "      <td>47</td>\n",
       "      <td>0</td>\n",
       "      <td>0</td>\n",
       "      <td>0</td>\n",
       "      <td>0</td>\n",
       "      <td>...</td>\n",
       "      <td>13507</td>\n",
       "      <td>11462</td>\n",
       "      <td>8191</td>\n",
       "      <td>9460</td>\n",
       "      <td>1091</td>\n",
       "      <td>10505</td>\n",
       "      <td>1603</td>\n",
       "      <td>658</td>\n",
       "      <td>3783</td>\n",
       "      <td>1790</td>\n",
       "    </tr>\n",
       "    <tr>\n",
       "      <th>4</th>\n",
       "      <td>1</td>\n",
       "      <td>243160</td>\n",
       "      <td>1</td>\n",
       "      <td>2</td>\n",
       "      <td>2</td>\n",
       "      <td>40</td>\n",
       "      <td>2</td>\n",
       "      <td>0</td>\n",
       "      <td>0</td>\n",
       "      <td>0</td>\n",
       "      <td>...</td>\n",
       "      <td>241034</td>\n",
       "      <td>240190</td>\n",
       "      <td>238301</td>\n",
       "      <td>238645</td>\n",
       "      <td>9454</td>\n",
       "      <td>9366</td>\n",
       "      <td>12440</td>\n",
       "      <td>9034</td>\n",
       "      <td>6587</td>\n",
       "      <td>11570</td>\n",
       "    </tr>\n",
       "  </tbody>\n",
       "</table>\n",
       "<p>5 rows × 24 columns</p>\n",
       "</div>"
      ],
      "text/plain": [
       "   INADIMPLENTE  CREDITO_CONCEDIDO  GENERO  ESCOLARIDADE  ESTADO_CIVIL  IDADE  \\\n",
       "0             0              10000       1             2             2     24   \n",
       "1             0             360000       1             2             1     45   \n",
       "2             0             280000       2             1             2     28   \n",
       "3             1              52743       1             1             2     47   \n",
       "4             1             243160       1             2             2     40   \n",
       "\n",
       "   ATRASO_PARCELA_M_0  ATRASO_PARCELA_M_2  ATRASO_PARCELA_M_3  \\\n",
       "0                   2                   0                   0   \n",
       "1                   2                   2                  -2   \n",
       "2                  -1                  -1                  -1   \n",
       "3                   0                   0                   0   \n",
       "4                   2                   0                   0   \n",
       "\n",
       "   ATRASO_PARCELA_M_4  ...  SALDO_PAGO_PARCELA_3  SALDO_PAGO_PARCELA_4  \\\n",
       "0                   0  ...                  4810                  7546   \n",
       "1                  -2  ...                     0                     0   \n",
       "2                   0  ...                 10002                 13476   \n",
       "3                   0  ...                 13507                 11462   \n",
       "4                   0  ...                241034                240190   \n",
       "\n",
       "   SALDO_PAGO_PARCELA_5  SALDO_PAGO_PARCELA_6  VALOR_PAGAMENTO_ANTERIOR_1  \\\n",
       "0                  9260                 10000                        3000   \n",
       "1                     0                     0                           0   \n",
       "2                 23572                 14603                        3658   \n",
       "3                  8191                  9460                        1091   \n",
       "4                238301                238645                        9454   \n",
       "\n",
       "   VALOR_PAGAMENTO_ANTERIOR_2  VALOR_PAGAMENTO_ANTERIOR_3  \\\n",
       "0                        2000                        3000   \n",
       "1                           0                           0   \n",
       "2                       10020                       10000   \n",
       "3                       10505                        1603   \n",
       "4                        9366                       12440   \n",
       "\n",
       "   VALOR_PAGAMENTO_ANTERIOR_4  VALOR_PAGAMENTO_ANTERIOR_5  \\\n",
       "0                        2000                        1000   \n",
       "1                           0                           0   \n",
       "2                       11000                       14603   \n",
       "3                         658                        3783   \n",
       "4                        9034                        6587   \n",
       "\n",
       "   VALOR_PAGAMENTO_ANTERIOR_6  \n",
       "0                           0  \n",
       "1                           0  \n",
       "2                        3819  \n",
       "3                        1790  \n",
       "4                       11570  \n",
       "\n",
       "[5 rows x 24 columns]"
      ]
     },
     "execution_count": 52,
     "metadata": {},
     "output_type": "execute_result"
    }
   ],
   "source": [
    "df_bytebank_validacao \\\n",
    "    = pd.read_csv(dict_caminho_dados['validacao'])\n",
    "df_bytebank_validacao.head(5)"
   ]
  },
  {
   "cell_type": "code",
   "execution_count": 53,
   "metadata": {},
   "outputs": [],
   "source": [
    "y_validacao \\\n",
    "    = np.array(df_bytebank_validacao['INADIMPLENTE'])"
   ]
  },
  {
   "cell_type": "code",
   "execution_count": 54,
   "metadata": {},
   "outputs": [
    {
     "data": {
      "text/plain": [
       "array([0, 0, 0, ..., 1, 1, 1])"
      ]
     },
     "execution_count": 54,
     "metadata": {},
     "output_type": "execute_result"
    }
   ],
   "source": [
    "y_validacao"
   ]
  },
  {
   "cell_type": "code",
   "execution_count": 55,
   "metadata": {},
   "outputs": [],
   "source": [
    "del df_bytebank_validacao['INADIMPLENTE']"
   ]
  },
  {
   "cell_type": "code",
   "execution_count": 56,
   "metadata": {},
   "outputs": [
    {
     "data": {
      "text/html": [
       "<div>\n",
       "<style scoped>\n",
       "    .dataframe tbody tr th:only-of-type {\n",
       "        vertical-align: middle;\n",
       "    }\n",
       "\n",
       "    .dataframe tbody tr th {\n",
       "        vertical-align: top;\n",
       "    }\n",
       "\n",
       "    .dataframe thead th {\n",
       "        text-align: right;\n",
       "    }\n",
       "</style>\n",
       "<table border=\"1\" class=\"dataframe\">\n",
       "  <thead>\n",
       "    <tr style=\"text-align: right;\">\n",
       "      <th></th>\n",
       "      <th>CREDITO_CONCEDIDO</th>\n",
       "      <th>GENERO</th>\n",
       "      <th>ESCOLARIDADE</th>\n",
       "      <th>ESTADO_CIVIL</th>\n",
       "      <th>IDADE</th>\n",
       "      <th>ATRASO_PARCELA_M_0</th>\n",
       "      <th>ATRASO_PARCELA_M_2</th>\n",
       "      <th>ATRASO_PARCELA_M_3</th>\n",
       "      <th>ATRASO_PARCELA_M_4</th>\n",
       "      <th>ATRASO_PARCELA_M_5</th>\n",
       "      <th>...</th>\n",
       "      <th>SALDO_PAGO_PARCELA_3</th>\n",
       "      <th>SALDO_PAGO_PARCELA_4</th>\n",
       "      <th>SALDO_PAGO_PARCELA_5</th>\n",
       "      <th>SALDO_PAGO_PARCELA_6</th>\n",
       "      <th>VALOR_PAGAMENTO_ANTERIOR_1</th>\n",
       "      <th>VALOR_PAGAMENTO_ANTERIOR_2</th>\n",
       "      <th>VALOR_PAGAMENTO_ANTERIOR_3</th>\n",
       "      <th>VALOR_PAGAMENTO_ANTERIOR_4</th>\n",
       "      <th>VALOR_PAGAMENTO_ANTERIOR_5</th>\n",
       "      <th>VALOR_PAGAMENTO_ANTERIOR_6</th>\n",
       "    </tr>\n",
       "  </thead>\n",
       "  <tbody>\n",
       "    <tr>\n",
       "      <th>0</th>\n",
       "      <td>10000</td>\n",
       "      <td>1</td>\n",
       "      <td>2</td>\n",
       "      <td>2</td>\n",
       "      <td>24</td>\n",
       "      <td>2</td>\n",
       "      <td>0</td>\n",
       "      <td>0</td>\n",
       "      <td>0</td>\n",
       "      <td>0</td>\n",
       "      <td>...</td>\n",
       "      <td>4810</td>\n",
       "      <td>7546</td>\n",
       "      <td>9260</td>\n",
       "      <td>10000</td>\n",
       "      <td>3000</td>\n",
       "      <td>2000</td>\n",
       "      <td>3000</td>\n",
       "      <td>2000</td>\n",
       "      <td>1000</td>\n",
       "      <td>0</td>\n",
       "    </tr>\n",
       "    <tr>\n",
       "      <th>1</th>\n",
       "      <td>360000</td>\n",
       "      <td>1</td>\n",
       "      <td>2</td>\n",
       "      <td>1</td>\n",
       "      <td>45</td>\n",
       "      <td>2</td>\n",
       "      <td>2</td>\n",
       "      <td>-2</td>\n",
       "      <td>-2</td>\n",
       "      <td>-2</td>\n",
       "      <td>...</td>\n",
       "      <td>0</td>\n",
       "      <td>0</td>\n",
       "      <td>0</td>\n",
       "      <td>0</td>\n",
       "      <td>0</td>\n",
       "      <td>0</td>\n",
       "      <td>0</td>\n",
       "      <td>0</td>\n",
       "      <td>0</td>\n",
       "      <td>0</td>\n",
       "    </tr>\n",
       "    <tr>\n",
       "      <th>2</th>\n",
       "      <td>280000</td>\n",
       "      <td>2</td>\n",
       "      <td>1</td>\n",
       "      <td>2</td>\n",
       "      <td>28</td>\n",
       "      <td>-1</td>\n",
       "      <td>-1</td>\n",
       "      <td>-1</td>\n",
       "      <td>0</td>\n",
       "      <td>0</td>\n",
       "      <td>...</td>\n",
       "      <td>10002</td>\n",
       "      <td>13476</td>\n",
       "      <td>23572</td>\n",
       "      <td>14603</td>\n",
       "      <td>3658</td>\n",
       "      <td>10020</td>\n",
       "      <td>10000</td>\n",
       "      <td>11000</td>\n",
       "      <td>14603</td>\n",
       "      <td>3819</td>\n",
       "    </tr>\n",
       "  </tbody>\n",
       "</table>\n",
       "<p>3 rows × 23 columns</p>\n",
       "</div>"
      ],
      "text/plain": [
       "   CREDITO_CONCEDIDO  GENERO  ESCOLARIDADE  ESTADO_CIVIL  IDADE  \\\n",
       "0              10000       1             2             2     24   \n",
       "1             360000       1             2             1     45   \n",
       "2             280000       2             1             2     28   \n",
       "\n",
       "   ATRASO_PARCELA_M_0  ATRASO_PARCELA_M_2  ATRASO_PARCELA_M_3  \\\n",
       "0                   2                   0                   0   \n",
       "1                   2                   2                  -2   \n",
       "2                  -1                  -1                  -1   \n",
       "\n",
       "   ATRASO_PARCELA_M_4  ATRASO_PARCELA_M_5  ...  SALDO_PAGO_PARCELA_3  \\\n",
       "0                   0                   0  ...                  4810   \n",
       "1                  -2                  -2  ...                     0   \n",
       "2                   0                   0  ...                 10002   \n",
       "\n",
       "   SALDO_PAGO_PARCELA_4  SALDO_PAGO_PARCELA_5  SALDO_PAGO_PARCELA_6  \\\n",
       "0                  7546                  9260                 10000   \n",
       "1                     0                     0                     0   \n",
       "2                 13476                 23572                 14603   \n",
       "\n",
       "   VALOR_PAGAMENTO_ANTERIOR_1  VALOR_PAGAMENTO_ANTERIOR_2  \\\n",
       "0                        3000                        2000   \n",
       "1                           0                           0   \n",
       "2                        3658                       10020   \n",
       "\n",
       "   VALOR_PAGAMENTO_ANTERIOR_3  VALOR_PAGAMENTO_ANTERIOR_4  \\\n",
       "0                        3000                        2000   \n",
       "1                           0                           0   \n",
       "2                       10000                       11000   \n",
       "\n",
       "   VALOR_PAGAMENTO_ANTERIOR_5  VALOR_PAGAMENTO_ANTERIOR_6  \n",
       "0                        1000                           0  \n",
       "1                           0                           0  \n",
       "2                       14603                        3819  \n",
       "\n",
       "[3 rows x 23 columns]"
      ]
     },
     "execution_count": 56,
     "metadata": {},
     "output_type": "execute_result"
    }
   ],
   "source": [
    "df_bytebank_validacao.head(3)"
   ]
  },
  {
   "cell_type": "code",
   "execution_count": 57,
   "metadata": {},
   "outputs": [],
   "source": [
    "colunas = [\n",
    "    'CREDITO_CONCEDIDO',\n",
    "    'GENERO',\n",
    "    'ESCOLARIDADE',\n",
    "    'ESTADO_CIVIL',\n",
    "    'IDADE',\n",
    "    'ATRASO_PARCELA_M_0',\n",
    "    'ATRASO_PARCELA_M_2',\n",
    "    'ATRASO_PARCELA_M_3',\n",
    "    'ATRASO_PARCELA_M_4',\n",
    "    'ATRASO_PARCELA_M_5',\n",
    "    'ATRASO_PARCELA_M_6',\n",
    "    'SALDO_PAGO_PARCELA_1',\n",
    "    'SALDO_PAGO_PARCELA_2',\n",
    "    'SALDO_PAGO_PARCELA_3',\n",
    "    'SALDO_PAGO_PARCELA_4',\n",
    "    'SALDO_PAGO_PARCELA_5',\n",
    "    'SALDO_PAGO_PARCELA_6',\n",
    "    'VALOR_PAGAMENTO_ANTERIOR_1',\n",
    "    'VALOR_PAGAMENTO_ANTERIOR_2',\n",
    "    'VALOR_PAGAMENTO_ANTERIOR_3',\n",
    "    'VALOR_PAGAMENTO_ANTERIOR_4',\n",
    "    'VALOR_PAGAMENTO_ANTERIOR_5',\n",
    "    'VALOR_PAGAMENTO_ANTERIOR_6',\n",
    "]\n",
    "\n",
    "df_bytebank_validacao['payload'] \\\n",
    "    = df_bytebank_validacao[colunas].apply(\n",
    "        lambda row: ','.join(\n",
    "            row.values.astype(str)), axis=1)"
   ]
  },
  {
   "cell_type": "code",
   "execution_count": 58,
   "metadata": {},
   "outputs": [
    {
     "data": {
      "text/html": [
       "<div>\n",
       "<style scoped>\n",
       "    .dataframe tbody tr th:only-of-type {\n",
       "        vertical-align: middle;\n",
       "    }\n",
       "\n",
       "    .dataframe tbody tr th {\n",
       "        vertical-align: top;\n",
       "    }\n",
       "\n",
       "    .dataframe thead th {\n",
       "        text-align: right;\n",
       "    }\n",
       "</style>\n",
       "<table border=\"1\" class=\"dataframe\">\n",
       "  <thead>\n",
       "    <tr style=\"text-align: right;\">\n",
       "      <th></th>\n",
       "      <th>CREDITO_CONCEDIDO</th>\n",
       "      <th>GENERO</th>\n",
       "      <th>ESCOLARIDADE</th>\n",
       "      <th>ESTADO_CIVIL</th>\n",
       "      <th>IDADE</th>\n",
       "      <th>ATRASO_PARCELA_M_0</th>\n",
       "      <th>ATRASO_PARCELA_M_2</th>\n",
       "      <th>ATRASO_PARCELA_M_3</th>\n",
       "      <th>ATRASO_PARCELA_M_4</th>\n",
       "      <th>ATRASO_PARCELA_M_5</th>\n",
       "      <th>...</th>\n",
       "      <th>SALDO_PAGO_PARCELA_4</th>\n",
       "      <th>SALDO_PAGO_PARCELA_5</th>\n",
       "      <th>SALDO_PAGO_PARCELA_6</th>\n",
       "      <th>VALOR_PAGAMENTO_ANTERIOR_1</th>\n",
       "      <th>VALOR_PAGAMENTO_ANTERIOR_2</th>\n",
       "      <th>VALOR_PAGAMENTO_ANTERIOR_3</th>\n",
       "      <th>VALOR_PAGAMENTO_ANTERIOR_4</th>\n",
       "      <th>VALOR_PAGAMENTO_ANTERIOR_5</th>\n",
       "      <th>VALOR_PAGAMENTO_ANTERIOR_6</th>\n",
       "      <th>payload</th>\n",
       "    </tr>\n",
       "  </thead>\n",
       "  <tbody>\n",
       "    <tr>\n",
       "      <th>0</th>\n",
       "      <td>10000</td>\n",
       "      <td>1</td>\n",
       "      <td>2</td>\n",
       "      <td>2</td>\n",
       "      <td>24</td>\n",
       "      <td>2</td>\n",
       "      <td>0</td>\n",
       "      <td>0</td>\n",
       "      <td>0</td>\n",
       "      <td>0</td>\n",
       "      <td>...</td>\n",
       "      <td>7546</td>\n",
       "      <td>9260</td>\n",
       "      <td>10000</td>\n",
       "      <td>3000</td>\n",
       "      <td>2000</td>\n",
       "      <td>3000</td>\n",
       "      <td>2000</td>\n",
       "      <td>1000</td>\n",
       "      <td>0</td>\n",
       "      <td>10000,1,2,2,24,2,0,0,0,0,0,223,3035,4810,7546,...</td>\n",
       "    </tr>\n",
       "    <tr>\n",
       "      <th>1</th>\n",
       "      <td>360000</td>\n",
       "      <td>1</td>\n",
       "      <td>2</td>\n",
       "      <td>1</td>\n",
       "      <td>45</td>\n",
       "      <td>2</td>\n",
       "      <td>2</td>\n",
       "      <td>-2</td>\n",
       "      <td>-2</td>\n",
       "      <td>-2</td>\n",
       "      <td>...</td>\n",
       "      <td>0</td>\n",
       "      <td>0</td>\n",
       "      <td>0</td>\n",
       "      <td>0</td>\n",
       "      <td>0</td>\n",
       "      <td>0</td>\n",
       "      <td>0</td>\n",
       "      <td>0</td>\n",
       "      <td>0</td>\n",
       "      <td>360000,1,2,1,45,2,2,-2,-2,-2,-2,2500,0,0,0,0,0...</td>\n",
       "    </tr>\n",
       "    <tr>\n",
       "      <th>2</th>\n",
       "      <td>280000</td>\n",
       "      <td>2</td>\n",
       "      <td>1</td>\n",
       "      <td>2</td>\n",
       "      <td>28</td>\n",
       "      <td>-1</td>\n",
       "      <td>-1</td>\n",
       "      <td>-1</td>\n",
       "      <td>0</td>\n",
       "      <td>0</td>\n",
       "      <td>...</td>\n",
       "      <td>13476</td>\n",
       "      <td>23572</td>\n",
       "      <td>14603</td>\n",
       "      <td>3658</td>\n",
       "      <td>10020</td>\n",
       "      <td>10000</td>\n",
       "      <td>11000</td>\n",
       "      <td>14603</td>\n",
       "      <td>3819</td>\n",
       "      <td>280000,2,1,2,28,-1,-1,-1,0,0,-1,3678,1829,1000...</td>\n",
       "    </tr>\n",
       "  </tbody>\n",
       "</table>\n",
       "<p>3 rows × 24 columns</p>\n",
       "</div>"
      ],
      "text/plain": [
       "   CREDITO_CONCEDIDO  GENERO  ESCOLARIDADE  ESTADO_CIVIL  IDADE  \\\n",
       "0              10000       1             2             2     24   \n",
       "1             360000       1             2             1     45   \n",
       "2             280000       2             1             2     28   \n",
       "\n",
       "   ATRASO_PARCELA_M_0  ATRASO_PARCELA_M_2  ATRASO_PARCELA_M_3  \\\n",
       "0                   2                   0                   0   \n",
       "1                   2                   2                  -2   \n",
       "2                  -1                  -1                  -1   \n",
       "\n",
       "   ATRASO_PARCELA_M_4  ATRASO_PARCELA_M_5  ...  SALDO_PAGO_PARCELA_4  \\\n",
       "0                   0                   0  ...                  7546   \n",
       "1                  -2                  -2  ...                     0   \n",
       "2                   0                   0  ...                 13476   \n",
       "\n",
       "   SALDO_PAGO_PARCELA_5  SALDO_PAGO_PARCELA_6  VALOR_PAGAMENTO_ANTERIOR_1  \\\n",
       "0                  9260                 10000                        3000   \n",
       "1                     0                     0                           0   \n",
       "2                 23572                 14603                        3658   \n",
       "\n",
       "   VALOR_PAGAMENTO_ANTERIOR_2  VALOR_PAGAMENTO_ANTERIOR_3  \\\n",
       "0                        2000                        3000   \n",
       "1                           0                           0   \n",
       "2                       10020                       10000   \n",
       "\n",
       "   VALOR_PAGAMENTO_ANTERIOR_4  VALOR_PAGAMENTO_ANTERIOR_5  \\\n",
       "0                        2000                        1000   \n",
       "1                           0                           0   \n",
       "2                       11000                       14603   \n",
       "\n",
       "   VALOR_PAGAMENTO_ANTERIOR_6  \\\n",
       "0                           0   \n",
       "1                           0   \n",
       "2                        3819   \n",
       "\n",
       "                                             payload  \n",
       "0  10000,1,2,2,24,2,0,0,0,0,0,223,3035,4810,7546,...  \n",
       "1  360000,1,2,1,45,2,2,-2,-2,-2,-2,2500,0,0,0,0,0...  \n",
       "2  280000,2,1,2,28,-1,-1,-1,0,0,-1,3678,1829,1000...  \n",
       "\n",
       "[3 rows x 24 columns]"
      ]
     },
     "execution_count": 58,
     "metadata": {},
     "output_type": "execute_result"
    }
   ],
   "source": [
    "df_bytebank_validacao.head(3)"
   ]
  },
  {
   "cell_type": "code",
   "execution_count": 59,
   "metadata": {},
   "outputs": [],
   "source": [
    "cliente_runtime = boto3.client('runtime.sagemaker')"
   ]
  },
  {
   "cell_type": "code",
   "execution_count": 60,
   "metadata": {},
   "outputs": [
    {
     "data": {
      "text/plain": [
       "<botocore.client.SageMakerRuntime at 0x7f732cc60cc0>"
      ]
     },
     "execution_count": 60,
     "metadata": {},
     "output_type": "execute_result"
    }
   ],
   "source": [
    "cliente_runtime"
   ]
  },
  {
   "cell_type": "code",
   "execution_count": 61,
   "metadata": {},
   "outputs": [
    {
     "data": {
      "text/plain": [
       "'10000,1,2,2,24,2,0,0,0,0,0,223,3035,4810,7546,9260,10000,3000,2000,3000,2000,1000,0'"
      ]
     },
     "execution_count": 61,
     "metadata": {},
     "output_type": "execute_result"
    }
   ],
   "source": [
    "df_bytebank_validacao['payload'][0]"
   ]
  },
  {
   "cell_type": "code",
   "execution_count": 62,
   "metadata": {},
   "outputs": [],
   "source": [
    "y_pred = [] \n",
    "\n",
    "for index, row in df_bytebank_validacao.iterrows():\n",
    "    body = row.payload\n",
    "    \n",
    "    response = cliente_runtime.invoke_endpoint(\n",
    "        EndpointName = nome_endpoint,\n",
    "        ContentType = 'text/csv',\n",
    "        Body = body,\n",
    "    )\n",
    "    \n",
    "    result = response['Body'].read().decode('utf-8')\n",
    "    y_pred.append(result)"
   ]
  },
  {
   "cell_type": "code",
   "execution_count": 63,
   "metadata": {},
   "outputs": [],
   "source": [
    "# Apenas alguns rótulos para geração dos gráficos\n",
    "rotulos_classes = ['adimplente', 'inadimplente']\n",
    "\n",
    "# Vamos considerar como y sendo a nossa base de validação e\n",
    "# y_pred como resultado dos dados previstos pelo modelo\n",
    "y = np.array(y_validacao)\n",
    "y_pred = np.array(y_pred)\n",
    "\n",
    "y = y.astype(float).astype(int)\n",
    "y_pred = y_pred.astype(float).astype(int)"
   ]
  },
  {
   "cell_type": "code",
   "execution_count": 64,
   "metadata": {},
   "outputs": [
    {
     "data": {
      "text/plain": [
       "(6990, 24)"
      ]
     },
     "execution_count": 64,
     "metadata": {},
     "output_type": "execute_result"
    }
   ],
   "source": [
    "df_bytebank_validacao.shape"
   ]
  },
  {
   "cell_type": "markdown",
   "metadata": {},
   "source": [
    "# Relatório de Classificação"
   ]
  },
  {
   "cell_type": "code",
   "execution_count": 65,
   "metadata": {},
   "outputs": [
    {
     "data": {
      "text/html": [
       "<div>\n",
       "<style scoped>\n",
       "    .dataframe tbody tr th:only-of-type {\n",
       "        vertical-align: middle;\n",
       "    }\n",
       "\n",
       "    .dataframe tbody tr th {\n",
       "        vertical-align: top;\n",
       "    }\n",
       "\n",
       "    .dataframe thead th {\n",
       "        text-align: right;\n",
       "    }\n",
       "</style>\n",
       "<table border=\"1\" class=\"dataframe\">\n",
       "  <thead>\n",
       "    <tr style=\"text-align: right;\">\n",
       "      <th></th>\n",
       "      <th>adimplente</th>\n",
       "      <th>inadimplente</th>\n",
       "      <th>accuracy</th>\n",
       "      <th>macro avg</th>\n",
       "      <th>weighted avg</th>\n",
       "    </tr>\n",
       "  </thead>\n",
       "  <tbody>\n",
       "    <tr>\n",
       "      <th>precision</th>\n",
       "      <td>0.767414</td>\n",
       "      <td>0.753909</td>\n",
       "      <td>0.760372</td>\n",
       "      <td>0.760662</td>\n",
       "      <td>0.760602</td>\n",
       "    </tr>\n",
       "    <tr>\n",
       "      <th>recall</th>\n",
       "      <td>0.741051</td>\n",
       "      <td>0.779353</td>\n",
       "      <td>0.760372</td>\n",
       "      <td>0.760202</td>\n",
       "      <td>0.760372</td>\n",
       "    </tr>\n",
       "    <tr>\n",
       "      <th>f1-score</th>\n",
       "      <td>0.754002</td>\n",
       "      <td>0.766420</td>\n",
       "      <td>0.760372</td>\n",
       "      <td>0.760211</td>\n",
       "      <td>0.760266</td>\n",
       "    </tr>\n",
       "    <tr>\n",
       "      <th>support</th>\n",
       "      <td>3464.000000</td>\n",
       "      <td>3526.000000</td>\n",
       "      <td>0.760372</td>\n",
       "      <td>6990.000000</td>\n",
       "      <td>6990.000000</td>\n",
       "    </tr>\n",
       "  </tbody>\n",
       "</table>\n",
       "</div>"
      ],
      "text/plain": [
       "            adimplente  inadimplente  accuracy    macro avg  weighted avg\n",
       "precision     0.767414      0.753909  0.760372     0.760662      0.760602\n",
       "recall        0.741051      0.779353  0.760372     0.760202      0.760372\n",
       "f1-score      0.754002      0.766420  0.760372     0.760211      0.760266\n",
       "support    3464.000000   3526.000000  0.760372  6990.000000   6990.000000"
      ]
     },
     "execution_count": 65,
     "metadata": {},
     "output_type": "execute_result"
    }
   ],
   "source": [
    "pd.DataFrame(\n",
    "    classification_report(\n",
    "        y,\n",
    "        y_pred,\n",
    "        target_names=rotulos_classes,\n",
    "        output_dict=True))"
   ]
  },
  {
   "cell_type": "markdown",
   "metadata": {},
   "source": [
    "# Métricas de Classificação"
   ]
  },
  {
   "cell_type": "code",
   "execution_count": 66,
   "metadata": {},
   "outputs": [],
   "source": [
    "def metricas_classificacao(y,\n",
    "                               y_pred,\n",
    "                               class_labels=rotulos_classes):\n",
    "    accuracy = accuracy_score(y , y_pred)\n",
    "    print(f\"Acurácia: {round(accuracy, 2)* 100} %\")"
   ]
  },
  {
   "cell_type": "code",
   "execution_count": 67,
   "metadata": {},
   "outputs": [
    {
     "name": "stdout",
     "output_type": "stream",
     "text": [
      "Acurácia: 76.0 %\n"
     ]
    }
   ],
   "source": [
    "metricas_classificacao(y, y_pred)"
   ]
  },
  {
   "cell_type": "markdown",
   "metadata": {},
   "source": [
    "# Matriz de Confusão"
   ]
  },
  {
   "cell_type": "code",
   "execution_count": 68,
   "metadata": {},
   "outputs": [
    {
     "data": {
      "image/png": "[encoded data removed]",
      "text/plain": [
       "<Figure size 432x288 with 2 Axes>"
      ]
     },
     "metadata": {
      "needs_background": "light"
     },
     "output_type": "display_data"
    }
   ],
   "source": [
    "cm = confusion_matrix(y,\n",
    "                      y_pred)\n",
    "\n",
    "cm_display = \\\n",
    "    ConfusionMatrixDisplay(cm,\n",
    "                           display_labels=rotulos_classes).plot(values_format = '.0f')"
   ]
  },
  {
   "cell_type": "markdown",
   "metadata": {},
   "source": [
    "# Script para fazer a chamada no endpoint"
   ]
  },
  {
   "cell_type": "code",
   "execution_count": 69,
   "metadata": {},
   "outputs": [
    {
     "data": {
      "text/plain": [
       "'bytebankXGBEndpoint20210215213041'"
      ]
     },
     "execution_count": 69,
     "metadata": {},
     "output_type": "execute_result"
    }
   ],
   "source": [
    "nome_endpoint"
   ]
  },
  {
   "cell_type": "code",
   "execution_count": 71,
   "metadata": {},
   "outputs": [
    {
     "name": "stdout",
     "output_type": "stream",
     "text": [
      "Crédito será inadimplente?: 0\n"
     ]
    }
   ],
   "source": [
    "import boto3\n",
    "\n",
    "runtime \\\n",
    "    = boto3.Session().client(\n",
    "        service_name='sagemaker-runtime',\n",
    "        region_name='us-east-1')\n",
    "\n",
    "payload \\\n",
    "    = '140000,2,2,1,37,0,0,0,0,0,0,58081,51013,54343,27537,9751,12569,5000,5000,5000,3000,3000,5000'\n",
    "\n",
    "response \\\n",
    "    = runtime.invoke_endpoint(\n",
    "        EndpointName=nome_endpoint,\n",
    "        ContentType='text/csv',\n",
    "        Body=payload)\n",
    "\n",
    "predicao = int(float((response['Body'].read().decode('UTF-8'))))\n",
    "print(f'Crédito será inadimplente?: {predicao}')"
   ]
  },
  {
   "cell_type": "markdown",
   "metadata": {},
   "source": [
    "# Destruição dos artefatos construídos"
   ]
  },
  {
   "cell_type": "code",
   "execution_count": 72,
   "metadata": {},
   "outputs": [
    {
     "name": "stdout",
     "output_type": "stream",
     "text": [
      "{'ResponseMetadata': {'RequestId': 'beb3a783-61fc-475f-b82d-a7212df2d3ef', 'HTTPStatusCode': 200, 'HTTPHeaders': {'x-amzn-requestid': 'beb3a783-61fc-475f-b82d-a7212df2d3ef', 'content-type': 'application/x-amz-json-1.1', 'content-length': '0', 'date': 'Mon, 15 Feb 2021 21:41:16 GMT'}, 'RetryAttempts': 0}}\n"
     ]
    }
   ],
   "source": [
    "response \\\n",
    "    = sessao_sagemaker_boto.delete_endpoint(\n",
    "        EndpointName=nome_endpoint)\n",
    "print(response)"
   ]
  },
  {
   "cell_type": "code",
   "execution_count": 73,
   "metadata": {},
   "outputs": [
    {
     "name": "stdout",
     "output_type": "stream",
     "text": [
      "{'ResponseMetadata': {'RequestId': '79330ebc-4869-4a44-850c-d926f6abf426', 'HTTPStatusCode': 200, 'HTTPHeaders': {'x-amzn-requestid': '79330ebc-4869-4a44-850c-d926f6abf426', 'content-type': 'application/x-amz-json-1.1', 'content-length': '0', 'date': 'Mon, 15 Feb 2021 21:41:16 GMT'}, 'RetryAttempts': 0}}\n"
     ]
    }
   ],
   "source": [
    "response \\\n",
    "    = sessao_sagemaker_boto.delete_endpoint_config(\n",
    "        EndpointConfigName=nome_configuracao_endpoint)\n",
    "print(response)"
   ]
  },
  {
   "cell_type": "code",
   "execution_count": 74,
   "metadata": {},
   "outputs": [
    {
     "name": "stdout",
     "output_type": "stream",
     "text": [
      "{'ResponseMetadata': {'RequestId': 'c7f0cdd9-99e0-4cec-a8d8-e0317bd4f45a', 'HTTPStatusCode': 200, 'HTTPHeaders': {'x-amzn-requestid': 'c7f0cdd9-99e0-4cec-a8d8-e0317bd4f45a', 'content-type': 'application/x-amz-json-1.1', 'content-length': '0', 'date': 'Mon, 15 Feb 2021 21:41:16 GMT'}, 'RetryAttempts': 0}}\n"
     ]
    }
   ],
   "source": [
    "response \\\n",
    "    = sessao_sagemaker_boto.delete_model(\n",
    "        ModelName=nome_modelo)\n",
    "print(response)"
   ]
  },
  {
   "cell_type": "code",
   "execution_count": null,
   "metadata": {},
   "outputs": [],
   "source": []
  }
 ],
 "metadata": {
  "kernelspec": {
   "display_name": "conda_tensorflow_p36",
   "language": "python",
   "name": "conda_tensorflow_p36"
  },
  "language_info": {
   "codemirror_mode": {
    "name": "ipython",
    "version": 3
   },
   "file_extension": ".py",
   "mimetype": "text/x-python",
   "name": "python",
   "nbconvert_exporter": "python",
   "pygments_lexer": "ipython3",
   "version": "3.6.10"
  }
 },
 "nbformat": 4,
 "nbformat_minor": 4
}
