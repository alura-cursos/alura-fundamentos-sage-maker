{
 "cells": [
  {
   "cell_type": "markdown",
   "metadata": {},
   "source": [
    "# Instalação de bibliotecas no ambiente do Sage Maker"
   ]
  },
  {
   "cell_type": "code",
   "execution_count": 1,
   "metadata": {},
   "outputs": [
    {
     "name": "stdout",
     "output_type": "stream",
     "text": [
      "Requirement already satisfied: pip in /home/ec2-user/anaconda3/envs/tensorflow_p36/lib/python3.6/site-packages (21.0.1)\n",
      "Requirement already satisfied: sagemaker==2.15.3 in /home/ec2-user/anaconda3/envs/tensorflow_p36/lib/python3.6/site-packages (2.15.3)\n",
      "Requirement already satisfied: protobuf3-to-dict>=0.1.5 in /home/ec2-user/anaconda3/envs/tensorflow_p36/lib/python3.6/site-packages (from sagemaker==2.15.3) (0.1.5)\n",
      "Requirement already satisfied: google-pasta in /home/ec2-user/anaconda3/envs/tensorflow_p36/lib/python3.6/site-packages (from sagemaker==2.15.3) (0.2.0)\n",
      "Requirement already satisfied: smdebug-rulesconfig==0.1.5 in /home/ec2-user/anaconda3/envs/tensorflow_p36/lib/python3.6/site-packages (from sagemaker==2.15.3) (0.1.5)\n",
      "Requirement already satisfied: boto3>=1.14.12 in /home/ec2-user/anaconda3/envs/tensorflow_p36/lib/python3.6/site-packages (from sagemaker==2.15.3) (1.16.2)\n",
      "Requirement already satisfied: importlib-metadata>=1.4.0 in /home/ec2-user/anaconda3/envs/tensorflow_p36/lib/python3.6/site-packages (from sagemaker==2.15.3) (3.4.0)\n",
      "Requirement already satisfied: numpy>=1.9.0 in /home/ec2-user/anaconda3/envs/tensorflow_p36/lib/python3.6/site-packages (from sagemaker==2.15.3) (1.18.1)\n",
      "Requirement already satisfied: protobuf>=3.1 in /home/ec2-user/anaconda3/envs/tensorflow_p36/lib/python3.6/site-packages (from sagemaker==2.15.3) (3.14.0)\n",
      "Requirement already satisfied: packaging>=20.0 in /home/ec2-user/anaconda3/envs/tensorflow_p36/lib/python3.6/site-packages (from sagemaker==2.15.3) (20.8)\n",
      "Requirement already satisfied: botocore<1.20.0,>=1.19.2 in /home/ec2-user/anaconda3/envs/tensorflow_p36/lib/python3.6/site-packages (from boto3>=1.14.12->sagemaker==2.15.3) (1.19.63)\n",
      "Requirement already satisfied: s3transfer<0.4.0,>=0.3.0 in /home/ec2-user/anaconda3/envs/tensorflow_p36/lib/python3.6/site-packages (from boto3>=1.14.12->sagemaker==2.15.3) (0.3.4)\n",
      "Requirement already satisfied: jmespath<1.0.0,>=0.7.1 in /home/ec2-user/anaconda3/envs/tensorflow_p36/lib/python3.6/site-packages (from boto3>=1.14.12->sagemaker==2.15.3) (0.10.0)\n",
      "Requirement already satisfied: urllib3<1.27,>=1.25.4 in /home/ec2-user/anaconda3/envs/tensorflow_p36/lib/python3.6/site-packages (from botocore<1.20.0,>=1.19.2->boto3>=1.14.12->sagemaker==2.15.3) (1.26.2)\n",
      "Requirement already satisfied: python-dateutil<3.0.0,>=2.1 in /home/ec2-user/anaconda3/envs/tensorflow_p36/lib/python3.6/site-packages (from botocore<1.20.0,>=1.19.2->boto3>=1.14.12->sagemaker==2.15.3) (2.8.1)\n",
      "Requirement already satisfied: zipp>=0.5 in /home/ec2-user/anaconda3/envs/tensorflow_p36/lib/python3.6/site-packages (from importlib-metadata>=1.4.0->sagemaker==2.15.3) (3.4.0)\n",
      "Requirement already satisfied: typing-extensions>=3.6.4 in /home/ec2-user/anaconda3/envs/tensorflow_p36/lib/python3.6/site-packages (from importlib-metadata>=1.4.0->sagemaker==2.15.3) (3.7.4.3)\n",
      "Requirement already satisfied: pyparsing>=2.0.2 in /home/ec2-user/anaconda3/envs/tensorflow_p36/lib/python3.6/site-packages (from packaging>=20.0->sagemaker==2.15.3) (2.4.7)\n",
      "Requirement already satisfied: six>=1.9 in /home/ec2-user/anaconda3/envs/tensorflow_p36/lib/python3.6/site-packages (from protobuf>=3.1->sagemaker==2.15.3) (1.15.0)\n",
      "Requirement already satisfied: boto3==1.16.2 in /home/ec2-user/anaconda3/envs/tensorflow_p36/lib/python3.6/site-packages (1.16.2)\n",
      "Requirement already satisfied: s3transfer<0.4.0,>=0.3.0 in /home/ec2-user/anaconda3/envs/tensorflow_p36/lib/python3.6/site-packages (from boto3==1.16.2) (0.3.4)\n",
      "Requirement already satisfied: jmespath<1.0.0,>=0.7.1 in /home/ec2-user/anaconda3/envs/tensorflow_p36/lib/python3.6/site-packages (from boto3==1.16.2) (0.10.0)\n",
      "Requirement already satisfied: botocore<1.20.0,>=1.19.2 in /home/ec2-user/anaconda3/envs/tensorflow_p36/lib/python3.6/site-packages (from boto3==1.16.2) (1.19.63)\n",
      "Requirement already satisfied: python-dateutil<3.0.0,>=2.1 in /home/ec2-user/anaconda3/envs/tensorflow_p36/lib/python3.6/site-packages (from botocore<1.20.0,>=1.19.2->boto3==1.16.2) (2.8.1)\n",
      "Requirement already satisfied: urllib3<1.27,>=1.25.4 in /home/ec2-user/anaconda3/envs/tensorflow_p36/lib/python3.6/site-packages (from botocore<1.20.0,>=1.19.2->boto3==1.16.2) (1.26.2)\n",
      "Requirement already satisfied: six>=1.5 in /home/ec2-user/anaconda3/envs/tensorflow_p36/lib/python3.6/site-packages (from python-dateutil<3.0.0,>=2.1->botocore<1.20.0,>=1.19.2->boto3==1.16.2) (1.15.0)\n",
      "Requirement already satisfied: pandas==1.0.1 in /home/ec2-user/anaconda3/envs/tensorflow_p36/lib/python3.6/site-packages (1.0.1)\n",
      "Requirement already satisfied: pytz>=2017.2 in /home/ec2-user/anaconda3/envs/tensorflow_p36/lib/python3.6/site-packages (from pandas==1.0.1) (2019.3)\n",
      "Requirement already satisfied: numpy>=1.13.3 in /home/ec2-user/anaconda3/envs/tensorflow_p36/lib/python3.6/site-packages (from pandas==1.0.1) (1.18.1)\n",
      "Requirement already satisfied: python-dateutil>=2.6.1 in /home/ec2-user/anaconda3/envs/tensorflow_p36/lib/python3.6/site-packages (from pandas==1.0.1) (2.8.1)\n",
      "Requirement already satisfied: six>=1.5 in /home/ec2-user/anaconda3/envs/tensorflow_p36/lib/python3.6/site-packages (from python-dateutil>=2.6.1->pandas==1.0.1) (1.15.0)\n",
      "Requirement already satisfied: numpy==1.18.1 in /home/ec2-user/anaconda3/envs/tensorflow_p36/lib/python3.6/site-packages (1.18.1)\n",
      "Requirement already satisfied: matplotlib==3.3.3 in /home/ec2-user/anaconda3/envs/tensorflow_p36/lib/python3.6/site-packages (3.3.3)\n",
      "Requirement already satisfied: kiwisolver>=1.0.1 in /home/ec2-user/anaconda3/envs/tensorflow_p36/lib/python3.6/site-packages (from matplotlib==3.3.3) (1.1.0)\n",
      "Requirement already satisfied: pyparsing!=2.0.4,!=2.1.2,!=2.1.6,>=2.0.3 in /home/ec2-user/anaconda3/envs/tensorflow_p36/lib/python3.6/site-packages (from matplotlib==3.3.3) (2.4.7)\n",
      "Requirement already satisfied: pillow>=6.2.0 in /home/ec2-user/anaconda3/envs/tensorflow_p36/lib/python3.6/site-packages (from matplotlib==3.3.3) (7.0.0)\n",
      "Requirement already satisfied: python-dateutil>=2.1 in /home/ec2-user/anaconda3/envs/tensorflow_p36/lib/python3.6/site-packages (from matplotlib==3.3.3) (2.8.1)\n",
      "Requirement already satisfied: numpy>=1.15 in /home/ec2-user/anaconda3/envs/tensorflow_p36/lib/python3.6/site-packages (from matplotlib==3.3.3) (1.18.1)\n",
      "Requirement already satisfied: cycler>=0.10 in /home/ec2-user/anaconda3/envs/tensorflow_p36/lib/python3.6/site-packages (from matplotlib==3.3.3) (0.10.0)\n",
      "Requirement already satisfied: six in /home/ec2-user/anaconda3/envs/tensorflow_p36/lib/python3.6/site-packages (from cycler>=0.10->matplotlib==3.3.3) (1.15.0)\n",
      "Requirement already satisfied: setuptools in /home/ec2-user/anaconda3/envs/tensorflow_p36/lib/python3.6/site-packages (from kiwisolver>=1.0.1->matplotlib==3.3.3) (45.2.0.post20200210)\n",
      "Requirement already satisfied: scikit-learn==0.24.0 in /home/ec2-user/anaconda3/envs/tensorflow_p36/lib/python3.6/site-packages (0.24.0)\n",
      "Requirement already satisfied: numpy>=1.13.3 in /home/ec2-user/anaconda3/envs/tensorflow_p36/lib/python3.6/site-packages (from scikit-learn==0.24.0) (1.18.1)\n",
      "Requirement already satisfied: threadpoolctl>=2.0.0 in /home/ec2-user/anaconda3/envs/tensorflow_p36/lib/python3.6/site-packages (from scikit-learn==0.24.0) (2.1.0)\n",
      "Requirement already satisfied: scipy>=0.19.1 in /home/ec2-user/anaconda3/envs/tensorflow_p36/lib/python3.6/site-packages (from scikit-learn==0.24.0) (1.4.1)\n",
      "Requirement already satisfied: joblib>=0.11 in /home/ec2-user/anaconda3/envs/tensorflow_p36/lib/python3.6/site-packages (from scikit-learn==0.24.0) (0.14.1)\n"
     ]
    }
   ],
   "source": [
    "!pip install -U pip\n",
    "!pip install sagemaker==2.15.3\n",
    "!pip install boto3==1.16.2\n",
    "!pip install pandas==1.0.1\n",
    "!pip install numpy==1.18.1\n",
    "!pip install matplotlib==3.3.3\n",
    "!pip install scikit-learn==0.24.0"
   ]
  },
  {
   "cell_type": "markdown",
   "metadata": {},
   "source": [
    "# Preparação de variáveis para o treinamento "
   ]
  },
  {
   "cell_type": "code",
   "execution_count": 2,
   "metadata": {},
   "outputs": [],
   "source": [
    "# Importação da biblioteca do Boto3 e \n",
    "# criação de sessão para acesso aos recursos\n",
    "import boto3"
   ]
  },
  {
   "cell_type": "code",
   "execution_count": 3,
   "metadata": {},
   "outputs": [],
   "source": [
    "sessao_boto = boto3.Session(region_name='us-east-1')"
   ]
  },
  {
   "cell_type": "code",
   "execution_count": 4,
   "metadata": {},
   "outputs": [],
   "source": [
    "# Função para pegar a \"ROLE\" (papel) de execução \n",
    "# IAM dos recursos no Sage Maker \n",
    "from sagemaker import get_execution_role"
   ]
  },
  {
   "cell_type": "code",
   "execution_count": 5,
   "metadata": {},
   "outputs": [],
   "source": [
    "ROLE = get_execution_role()"
   ]
  },
  {
   "cell_type": "code",
   "execution_count": 6,
   "metadata": {},
   "outputs": [
    {
     "name": "stdout",
     "output_type": "stream",
     "text": [
      "arn:aws:iam::962752222089:role/service-role/AWSGlueServiceSageMakerNotebookRole-gdelt\n"
     ]
    }
   ],
   "source": [
    "print(ROLE)"
   ]
  },
  {
   "cell_type": "code",
   "execution_count": 7,
   "metadata": {},
   "outputs": [],
   "source": [
    "# Importação do Sage Maker SDK e criação \n",
    "# da sessão do Sage Maker SDK\n",
    "import sagemaker"
   ]
  },
  {
   "cell_type": "code",
   "execution_count": 8,
   "metadata": {},
   "outputs": [],
   "source": [
    "sessao_sagemaker = sagemaker.Session(boto_session=sessao_boto)"
   ]
  },
  {
   "cell_type": "code",
   "execution_count": 9,
   "metadata": {},
   "outputs": [],
   "source": [
    "BUCKET ='sagemaker-alura-engenharia-machine-learning'\n",
    "\n",
    "PREFIXO_DADOS = 'dados'\n",
    "\n",
    "PREFIXO_MODELOS = 'modelos'\n",
    "\n",
    "REGIAO = sessao_sagemaker.boto_region_name\n",
    "\n",
    "SEMENTE = 42"
   ]
  },
  {
   "cell_type": "code",
   "execution_count": 10,
   "metadata": {},
   "outputs": [],
   "source": [
    "import sys\n",
    "\n",
    "sys.path.append(\"./\")\n",
    "\n",
    "import os\n",
    "import io\n",
    "import json\n",
    "import time\n",
    "import numpy as np\n",
    "import pandas as pd\n",
    "import matplotlib.pyplot as plt\n",
    "\n",
    "from sklearn.metrics import accuracy_score\n",
    "from sklearn.metrics import classification_report\n",
    "from sklearn.metrics import confusion_matrix\n",
    "from sklearn.metrics import ConfusionMatrixDisplay\n",
    "\n",
    "from time import strftime, gmtime"
   ]
  },
  {
   "cell_type": "markdown",
   "metadata": {},
   "source": [
    "# Carga de dados no S3 e Training Inputs"
   ]
  },
  {
   "cell_type": "code",
   "execution_count": 11,
   "metadata": {},
   "outputs": [],
   "source": [
    "# Vamos colocar os caminhos em um dicionario\n",
    "# apenas para manter a simplicidade e a consistencia\n",
    "# dos caminhos. Em caso de mudança, essa será refletida\n",
    "# em todos os caminhos.\n",
    "\n",
    "dict_caminho_dados = {\n",
    "    \"treino\": \"dados/df_bytebank_treino.csv\",\n",
    "    \"teste\": \"dados/df_bytebank_teste.csv\",\n",
    "    \"validacao\": \"dados/df_bytebank_validacao.csv\",    \n",
    "}"
   ]
  },
  {
   "cell_type": "code",
   "execution_count": 12,
   "metadata": {},
   "outputs": [],
   "source": [
    "# Função para upload dos dados no S3\n",
    "# para as bases de treinamento, \n",
    "# teste e validação\n",
    "bytebank_treino_caminho = \\\n",
    "    sessao_sagemaker.upload_data(path=dict_caminho_dados['treino'],\n",
    "                                 bucket=BUCKET,\n",
    "                                 key_prefix=f'{PREFIXO_DADOS}/treino'\n",
    "                                )"
   ]
  },
  {
   "cell_type": "code",
   "execution_count": 13,
   "metadata": {},
   "outputs": [],
   "source": [
    "# Upload dos dados de treinamento\n",
    "bytebank_teste_caminho = \\\n",
    "    sessao_sagemaker.upload_data(path=dict_caminho_dados['teste'],\n",
    "                                 bucket=BUCKET,\n",
    "                                 key_prefix=f'{PREFIXO_DADOS}/teste'\n",
    "                                )"
   ]
  },
  {
   "cell_type": "code",
   "execution_count": 14,
   "metadata": {},
   "outputs": [],
   "source": [
    "# Upload dos dados de validação\n",
    "bytebank_validacao_caminho = \\\n",
    "    sessao_sagemaker.upload_data(path=dict_caminho_dados['validacao'],\n",
    "                                 bucket=BUCKET,\n",
    "                                 key_prefix=f'{PREFIXO_DADOS}/validacao'\n",
    "                                )"
   ]
  },
  {
   "cell_type": "code",
   "execution_count": 15,
   "metadata": {},
   "outputs": [
    {
     "name": "stdout",
     "output_type": "stream",
     "text": [
      "s3://sagemaker-alura-engenharia-machine-learning/dados/treino/df_bytebank_treino.csv\n"
     ]
    }
   ],
   "source": [
    "print(bytebank_treino_caminho)"
   ]
  },
  {
   "cell_type": "code",
   "execution_count": 16,
   "metadata": {},
   "outputs": [
    {
     "name": "stdout",
     "output_type": "stream",
     "text": [
      "s3://sagemaker-alura-engenharia-machine-learning/dados/teste/df_bytebank_teste.csv\n"
     ]
    }
   ],
   "source": [
    "print(bytebank_teste_caminho)"
   ]
  },
  {
   "cell_type": "code",
   "execution_count": 17,
   "metadata": {},
   "outputs": [
    {
     "name": "stdout",
     "output_type": "stream",
     "text": [
      "s3://sagemaker-alura-engenharia-machine-learning/dados/validacao/df_bytebank_validacao.csv\n"
     ]
    }
   ],
   "source": [
    "print(bytebank_validacao_caminho)"
   ]
  },
  {
   "cell_type": "code",
   "execution_count": 18,
   "metadata": {},
   "outputs": [],
   "source": [
    "# Função para criar os canais de \n",
    "# treinamento que vamos passar para o estimador\n",
    "s3_input_treino =\\\n",
    "    sagemaker.TrainingInput(s3_data=bytebank_treino_caminho,\n",
    "                            content_type='csv')"
   ]
  },
  {
   "cell_type": "code",
   "execution_count": 19,
   "metadata": {},
   "outputs": [],
   "source": [
    "# Canal de teste\n",
    "s3_input_teste =\\\n",
    "    sagemaker.TrainingInput(s3_data=bytebank_teste_caminho,\n",
    "                            content_type='csv')"
   ]
  },
  {
   "cell_type": "code",
   "execution_count": 20,
   "metadata": {},
   "outputs": [],
   "source": [
    "# Canal de validação\n",
    "s3_input_validacao =\\\n",
    "    sagemaker.TrainingInput(s3_data=bytebank_validacao_caminho,\n",
    "                            content_type='csv')"
   ]
  },
  {
   "cell_type": "code",
   "execution_count": 21,
   "metadata": {},
   "outputs": [
    {
     "name": "stdout",
     "output_type": "stream",
     "text": [
      "<sagemaker.inputs.TrainingInput object at 0x7f688ba08f28>\n"
     ]
    }
   ],
   "source": [
    "print(s3_input_treino)"
   ]
  },
  {
   "cell_type": "markdown",
   "metadata": {},
   "source": [
    "# Imagens pré-construídas do Sage Maker"
   ]
  },
  {
   "cell_type": "code",
   "execution_count": 22,
   "metadata": {},
   "outputs": [],
   "source": [
    "# Imagem do XGBoost que vamos usar no container\n",
    "from sagemaker import image_uris"
   ]
  },
  {
   "cell_type": "code",
   "execution_count": 23,
   "metadata": {},
   "outputs": [],
   "source": [
    "container = \\\n",
    "    image_uris.retrieve(\n",
    "    framework='xgboost',\n",
    "    region=REGIAO,\n",
    "    version='0.90-2'\n",
    ")"
   ]
  },
  {
   "cell_type": "code",
   "execution_count": 24,
   "metadata": {},
   "outputs": [
    {
     "data": {
      "text/plain": [
       "'683313688378.dkr.ecr.us-east-1.amazonaws.com/sagemaker-xgboost:0.90-2-cpu-py3'"
      ]
     },
     "execution_count": 24,
     "metadata": {},
     "output_type": "execute_result"
    }
   ],
   "source": [
    "container"
   ]
  },
  {
   "cell_type": "markdown",
   "metadata": {},
   "source": [
    "# Estimador e construção do modelo"
   ]
  },
  {
   "cell_type": "code",
   "execution_count": 25,
   "metadata": {},
   "outputs": [],
   "source": [
    "# Criação do estimador\n",
    "from sagemaker import estimator"
   ]
  },
  {
   "cell_type": "code",
   "execution_count": 26,
   "metadata": {},
   "outputs": [],
   "source": [
    "estimador_modelo_xgb = \\\n",
    "    estimator.Estimator(\n",
    "    image_uri=container,\n",
    "    role=ROLE,\n",
    "    instance_count=1,\n",
    "    instance_type='ml.m4.xlarge',\n",
    "    output_path=f's3://{BUCKET}/{PREFIXO_MODELOS}',\n",
    "    base_job_name='bytebankPythonSDK',\n",
    "    sagemaker_session=sessao_sagemaker)"
   ]
  },
  {
   "cell_type": "code",
   "execution_count": 27,
   "metadata": {},
   "outputs": [
    {
     "data": {
      "text/plain": [
       "<sagemaker.estimator.Estimator at 0x7f688a9c26d8>"
      ]
     },
     "execution_count": 27,
     "metadata": {},
     "output_type": "execute_result"
    }
   ],
   "source": [
    "estimador_modelo_xgb"
   ]
  },
  {
   "cell_type": "markdown",
   "metadata": {},
   "source": [
    "# Hiperparâmetros do modelo"
   ]
  },
  {
   "cell_type": "code",
   "execution_count": 28,
   "metadata": {},
   "outputs": [],
   "source": [
    "# Definição dos hiperparametros\n",
    "estimador_modelo_xgb.set_hyperparameters(\n",
    "    max_depth=5,\n",
    "    eta=0.3,\n",
    "    eval_metric='error',\n",
    "    seed=SEMENTE,\n",
    "    num_round=100,\n",
    "    objective='binary:hinge'\n",
    ")"
   ]
  },
  {
   "cell_type": "markdown",
   "metadata": {},
   "source": [
    "# Treinamento do modelo "
   ]
  },
  {
   "cell_type": "code",
   "execution_count": 29,
   "metadata": {
    "scrolled": false
   },
   "outputs": [
    {
     "name": "stdout",
     "output_type": "stream",
     "text": [
      "2021-02-15 21:43:57 Starting - Starting the training job...\n",
      "2021-02-15 21:43:59 Starting - Launching requested ML instances.........\n",
      "2021-02-15 21:45:31 Starting - Preparing the instances for training......\n",
      "2021-02-15 21:46:32 Downloading - Downloading input data...\n",
      "2021-02-15 21:47:06 Training - Downloading the training image..\u001b[34mINFO:sagemaker-containers:Imported framework sagemaker_xgboost_container.training\u001b[0m\n",
      "\u001b[34mINFO:sagemaker-containers:Failed to parse hyperparameter eval_metric value error to Json.\u001b[0m\n",
      "\u001b[34mReturning the value itself\u001b[0m\n",
      "\u001b[34mINFO:sagemaker-containers:Failed to parse hyperparameter objective value binary:hinge to Json.\u001b[0m\n",
      "\u001b[34mReturning the value itself\u001b[0m\n",
      "\u001b[34mINFO:sagemaker-containers:No GPUs detected (normal if no gpus installed)\u001b[0m\n",
      "\u001b[34mINFO:sagemaker_xgboost_container.training:Running XGBoost Sagemaker in algorithm mode\u001b[0m\n",
      "\u001b[34mINFO:root:Determined delimiter of CSV input is ','\u001b[0m\n",
      "\u001b[34mINFO:root:Determined delimiter of CSV input is ','\u001b[0m\n",
      "\u001b[34mINFO:root:Determined delimiter of CSV input is ','\u001b[0m\n",
      "\u001b[34m[21:47:36] 32849x23 matrix with 755527 entries loaded from /opt/ml/input/data/train?format=csv&label_column=0&delimiter=,\u001b[0m\n",
      "\u001b[34mINFO:root:Determined delimiter of CSV input is ','\u001b[0m\n",
      "\u001b[34m[21:47:36] 6991x23 matrix with 160793 entries loaded from /opt/ml/input/data/validation?format=csv&label_column=0&delimiter=,\u001b[0m\n",
      "\u001b[34mINFO:root:Single node training.\u001b[0m\n",
      "\u001b[34mINFO:root:Train matrix has 32849 rows\u001b[0m\n",
      "\u001b[34mINFO:root:Validation matrix has 6991 rows\u001b[0m\n",
      "\u001b[34m[0]#011train-error:0.500928#011validation-error:0.495637\u001b[0m\n",
      "\u001b[34m[1]#011train-error:0.500411#011validation-error:0.495065\u001b[0m\n",
      "\u001b[34m[2]#011train-error:0.400682#011validation-error:0.405521\u001b[0m\n",
      "\u001b[34m[3]#011train-error:0.286858#011validation-error:0.292662\u001b[0m\n",
      "\u001b[34m[4]#011train-error:0.283936#011validation-error:0.291804\u001b[0m\n",
      "\u001b[34m[5]#011train-error:0.278091#011validation-error:0.286654\u001b[0m\n",
      "\u001b[34m[6]#011train-error:0.268501#011validation-error:0.276641\u001b[0m\n",
      "\u001b[34m[7]#011train-error:0.265214#011validation-error:0.274496\u001b[0m\n",
      "\u001b[34m[8]#011train-error:0.262108#011validation-error:0.270634\u001b[0m\n",
      "\u001b[34m[9]#011train-error:0.249718#011validation-error:0.256902\u001b[0m\n",
      "\u001b[34m[10]#011train-error:0.242717#011validation-error:0.250036\u001b[0m\n",
      "\u001b[34m[11]#011train-error:0.23949#011validation-error:0.249321\u001b[0m\n",
      "\u001b[34m[12]#011train-error:0.237024#011validation-error:0.246174\u001b[0m\n",
      "\u001b[34m[13]#011train-error:0.233828#011validation-error:0.24317\u001b[0m\n",
      "\u001b[34m[14]#011train-error:0.231636#011validation-error:0.241739\u001b[0m\n",
      "\u001b[34m[15]#011train-error:0.229992#011validation-error:0.24131\u001b[0m\n",
      "\u001b[34m[16]#011train-error:0.227952#011validation-error:0.23988\u001b[0m\n",
      "\u001b[34m[17]#011train-error:0.224938#011validation-error:0.237448\u001b[0m\n",
      "\u001b[34m[18]#011train-error:0.222686#011validation-error:0.235875\u001b[0m\n",
      "\u001b[34m[19]#011train-error:0.220555#011validation-error:0.232871\u001b[0m\n",
      "\u001b[34m[20]#011train-error:0.219307#011validation-error:0.231583\u001b[0m\n",
      "\u001b[34m[21]#011train-error:0.218271#011validation-error:0.231154\u001b[0m\n",
      "\u001b[34m[22]#011train-error:0.217389#011validation-error:0.229867\u001b[0m\n",
      "\u001b[34m[23]#011train-error:0.216506#011validation-error:0.229438\u001b[0m\n",
      "\u001b[34m[24]#011train-error:0.214984#011validation-error:0.228723\u001b[0m\n",
      "\u001b[34m[25]#011train-error:0.21401#011validation-error:0.229152\u001b[0m\n",
      "\u001b[34m[26]#011train-error:0.212061#011validation-error:0.226005\u001b[0m\n",
      "\u001b[34m[27]#011train-error:0.209961#011validation-error:0.223716\u001b[0m\n",
      "\u001b[34m[28]#011train-error:0.20856#011validation-error:0.222715\u001b[0m\n",
      "\u001b[34m[29]#011train-error:0.20783#011validation-error:0.222572\u001b[0m\n",
      "\u001b[34m[30]#011train-error:0.20786#011validation-error:0.222143\u001b[0m\n",
      "\u001b[34m[31]#011train-error:0.207617#011validation-error:0.222286\u001b[0m\n",
      "\u001b[34m[32]#011train-error:0.205455#011validation-error:0.220855\u001b[0m\n",
      "\u001b[34m[33]#011train-error:0.204907#011validation-error:0.220426\u001b[0m\n",
      "\u001b[34m[34]#011train-error:0.204786#011validation-error:0.220569\u001b[0m\n",
      "\u001b[34m[35]#011train-error:0.203629#011validation-error:0.218853\u001b[0m\n",
      "\u001b[34m[36]#011train-error:0.20302#011validation-error:0.21871\u001b[0m\n",
      "\u001b[34m[37]#011train-error:0.201589#011validation-error:0.218424\u001b[0m\n",
      "\u001b[34m[38]#011train-error:0.201193#011validation-error:0.218281\u001b[0m\n",
      "\u001b[34m[39]#011train-error:0.200706#011validation-error:0.217279\u001b[0m\n",
      "\u001b[34m[40]#011train-error:0.199032#011validation-error:0.217995\u001b[0m\n",
      "\u001b[34m[41]#011train-error:0.198088#011validation-error:0.217852\u001b[0m\n",
      "\u001b[34m[42]#011train-error:0.196779#011validation-error:0.216993\u001b[0m\n",
      "\u001b[34m[43]#011train-error:0.19614#011validation-error:0.217279\u001b[0m\n",
      "\u001b[34m[44]#011train-error:0.195805#011validation-error:0.215992\u001b[0m\n",
      "\u001b[34m[45]#011train-error:0.195014#011validation-error:0.215849\u001b[0m\n",
      "\u001b[34m[46]#011train-error:0.19337#011validation-error:0.214705\u001b[0m\n",
      "\u001b[34m[47]#011train-error:0.192243#011validation-error:0.213989\u001b[0m\n",
      "\u001b[34m[48]#011train-error:0.191513#011validation-error:0.213417\u001b[0m\n",
      "\u001b[34m[49]#011train-error:0.190995#011validation-error:0.21356\u001b[0m\n",
      "\u001b[34m[50]#011train-error:0.189747#011validation-error:0.213703\u001b[0m\n",
      "\u001b[34m[51]#011train-error:0.188742#011validation-error:0.214275\u001b[0m\n",
      "\u001b[34m[52]#011train-error:0.188194#011validation-error:0.212273\u001b[0m\n",
      "\u001b[34m[53]#011train-error:0.188012#011validation-error:0.212273\u001b[0m\n",
      "\u001b[34m[54]#011train-error:0.186277#011validation-error:0.211272\u001b[0m\n",
      "\u001b[34m[55]#011train-error:0.18579#011validation-error:0.211129\u001b[0m\n",
      "\u001b[34m[56]#011train-error:0.185729#011validation-error:0.211272\u001b[0m\n",
      "\u001b[34m[57]#011train-error:0.184054#011validation-error:0.209412\u001b[0m\n",
      "\u001b[34m[58]#011train-error:0.183933#011validation-error:0.209126\u001b[0m\n",
      "\u001b[34m[59]#011train-error:0.183324#011validation-error:0.209412\u001b[0m\n",
      "\u001b[34m[60]#011train-error:0.182776#011validation-error:0.208697\u001b[0m\n",
      "\u001b[34m[61]#011train-error:0.182593#011validation-error:0.208411\u001b[0m\n",
      "\u001b[34m[62]#011train-error:0.181984#011validation-error:0.208697\u001b[0m\n",
      "\u001b[34m[63]#011train-error:0.181436#011validation-error:0.207839\u001b[0m\n",
      "\u001b[34m[64]#011train-error:0.180401#011validation-error:0.207982\u001b[0m\n",
      "\u001b[34m[65]#011train-error:0.179762#011validation-error:0.208411\u001b[0m\n",
      "\u001b[34m[66]#011train-error:0.179336#011validation-error:0.207696\u001b[0m\n",
      "\u001b[34m[67]#011train-error:0.178118#011validation-error:0.207553\u001b[0m\n",
      "\u001b[34m[68]#011train-error:0.17754#011validation-error:0.206837\u001b[0m\n",
      "\u001b[34m[69]#011train-error:0.176292#011validation-error:0.207123\u001b[0m\n",
      "\u001b[34m[70]#011train-error:0.176109#011validation-error:0.206551\u001b[0m\n",
      "\u001b[34m[71]#011train-error:0.175683#011validation-error:0.206694\u001b[0m\n",
      "\u001b[34m[72]#011train-error:0.175287#011validation-error:0.206551\u001b[0m\n",
      "\u001b[34m[73]#011train-error:0.175196#011validation-error:0.206694\u001b[0m\n",
      "\u001b[34m[74]#011train-error:0.174861#011validation-error:0.206408\u001b[0m\n",
      "\u001b[34m[75]#011train-error:0.174861#011validation-error:0.206551\u001b[0m\n",
      "\u001b[34m[76]#011train-error:0.174769#011validation-error:0.206694\u001b[0m\n",
      "\u001b[34m[77]#011train-error:0.174648#011validation-error:0.206837\u001b[0m\n",
      "\u001b[34m[78]#011train-error:0.174069#011validation-error:0.206122\u001b[0m\n",
      "\u001b[34m[79]#011train-error:0.174008#011validation-error:0.206122\u001b[0m\n",
      "\u001b[34m[80]#011train-error:0.172852#011validation-error:0.205836\u001b[0m\n",
      "\u001b[34m[81]#011train-error:0.172517#011validation-error:0.205836\u001b[0m\n",
      "\u001b[34m[82]#011train-error:0.17209#011validation-error:0.206694\u001b[0m\n",
      "\u001b[34m[83]#011train-error:0.170355#011validation-error:0.204978\u001b[0m\n",
      "\u001b[34m[84]#011train-error:0.169899#011validation-error:0.205264\u001b[0m\n",
      "\u001b[34m[85]#011train-error:0.169868#011validation-error:0.205264\u001b[0m\n",
      "\u001b[34m[86]#011train-error:0.169899#011validation-error:0.205121\u001b[0m\n",
      "\u001b[34m[87]#011train-error:0.169899#011validation-error:0.204978\u001b[0m\n",
      "\u001b[34m[88]#011train-error:0.169929#011validation-error:0.204978\u001b[0m\n",
      "\u001b[34m[89]#011train-error:0.169746#011validation-error:0.204692\u001b[0m\n",
      "\u001b[34m[90]#011train-error:0.169381#011validation-error:0.20412\u001b[0m\n",
      "\u001b[34m[91]#011train-error:0.169412#011validation-error:0.204406\u001b[0m\n",
      "\u001b[34m[92]#011train-error:0.169107#011validation-error:0.204263\u001b[0m\n",
      "\u001b[34m[93]#011train-error:0.169016#011validation-error:0.20412\u001b[0m\n",
      "\u001b[34m[94]#011train-error:0.168681#011validation-error:0.203834\u001b[0m\n",
      "\u001b[34m[95]#011train-error:0.16862#011validation-error:0.203834\u001b[0m\n",
      "\u001b[34m[96]#011train-error:0.168681#011validation-error:0.20369\u001b[0m\n",
      "\u001b[34m[97]#011train-error:0.168803#011validation-error:0.202975\u001b[0m\n",
      "\u001b[34m[98]#011train-error:0.167981#011validation-error:0.203118\u001b[0m\n",
      "\u001b[34m[99]#011train-error:0.167829#011validation-error:0.203261\u001b[0m\n",
      "\n",
      "2021-02-15 21:47:50 Uploading - Uploading generated training model\n",
      "2021-02-15 21:47:50 Completed - Training job completed\n"
     ]
    },
    {
     "name": "stdout",
     "output_type": "stream",
     "text": [
      "Training seconds: 78\n",
      "Billable seconds: 78\n"
     ]
    }
   ],
   "source": [
    "# Ajuste do modelo\n",
    "estimador_modelo_xgb.fit({\n",
    "    'train': s3_input_treino,\n",
    "    'validation': s3_input_validacao\n",
    "})"
   ]
  },
  {
   "cell_type": "code",
   "execution_count": 30,
   "metadata": {},
   "outputs": [
    {
     "name": "stdout",
     "output_type": "stream",
     "text": [
      "arn:aws:iam::962752222089:role/service-role/AWSGlueServiceSageMakerNotebookRole-gdelt\n"
     ]
    }
   ],
   "source": [
    "print(ROLE)"
   ]
  },
  {
   "cell_type": "code",
   "execution_count": 31,
   "metadata": {},
   "outputs": [
    {
     "data": {
      "text/plain": [
       "'683313688378.dkr.ecr.us-east-1.amazonaws.com/sagemaker-xgboost:0.90-2-cpu-py3'"
      ]
     },
     "execution_count": 31,
     "metadata": {},
     "output_type": "execute_result"
    }
   ],
   "source": [
    "container"
   ]
  },
  {
   "cell_type": "code",
   "execution_count": 32,
   "metadata": {},
   "outputs": [
    {
     "data": {
      "text/plain": [
       "42"
      ]
     },
     "execution_count": 32,
     "metadata": {},
     "output_type": "execute_result"
    }
   ],
   "source": [
    "SEMENTE"
   ]
  },
  {
   "cell_type": "markdown",
   "metadata": {},
   "source": [
    "# Deploy do modelo no endpoint"
   ]
  },
  {
   "cell_type": "code",
   "execution_count": 33,
   "metadata": {},
   "outputs": [],
   "source": [
    "# Importação do serializador CSV e a \n",
    "# definição do objeto de serialização\n",
    "from sagemaker.serializers import CSVSerializer"
   ]
  },
  {
   "cell_type": "code",
   "execution_count": 34,
   "metadata": {},
   "outputs": [],
   "source": [
    "serializer = CSVSerializer()"
   ]
  },
  {
   "cell_type": "code",
   "execution_count": 35,
   "metadata": {},
   "outputs": [
    {
     "data": {
      "text/plain": [
       "<sagemaker.serializers.CSVSerializer at 0x7f688bc6f940>"
      ]
     },
     "execution_count": 35,
     "metadata": {},
     "output_type": "execute_result"
    }
   ],
   "source": [
    "serializer"
   ]
  },
  {
   "cell_type": "code",
   "execution_count": 36,
   "metadata": {},
   "outputs": [
    {
     "name": "stdout",
     "output_type": "stream",
     "text": [
      "-----------------!"
     ]
    }
   ],
   "source": [
    "# Deploy do estimador no endpoint\n",
    "modelo_endpoint = \\\n",
    "    estimador_modelo_xgb.deploy(\n",
    "        initial_instance_count=1,\n",
    "        instance_type='ml.t2.medium',\n",
    "        endpoint_name='bytebankSDKEndpoint',\n",
    "        serializer=serializer,\n",
    "        model_name='bytebankPythonSDK-2021-02-15-21-43-56-913'\n",
    ")"
   ]
  },
  {
   "cell_type": "markdown",
   "metadata": {},
   "source": [
    "# Chamada do modelo no endpoint"
   ]
  },
  {
   "cell_type": "code",
   "execution_count": 37,
   "metadata": {},
   "outputs": [],
   "source": [
    "sessao_sagemaker.download_data(\n",
    "    path=PREFIXO_DADOS,\n",
    "    bucket=BUCKET,\n",
    "    key_prefix=f'{PREFIXO_DADOS}/teste' \n",
    ")"
   ]
  },
  {
   "cell_type": "code",
   "execution_count": 38,
   "metadata": {},
   "outputs": [
    {
     "data": {
      "text/html": [
       "<div>\n",
       "<style scoped>\n",
       "    .dataframe tbody tr th:only-of-type {\n",
       "        vertical-align: middle;\n",
       "    }\n",
       "\n",
       "    .dataframe tbody tr th {\n",
       "        vertical-align: top;\n",
       "    }\n",
       "\n",
       "    .dataframe thead th {\n",
       "        text-align: right;\n",
       "    }\n",
       "</style>\n",
       "<table border=\"1\" class=\"dataframe\">\n",
       "  <thead>\n",
       "    <tr style=\"text-align: right;\">\n",
       "      <th></th>\n",
       "      <th>INADIMPLENTE</th>\n",
       "      <th>CREDITO_CONCEDIDO</th>\n",
       "      <th>GENERO</th>\n",
       "      <th>ESCOLARIDADE</th>\n",
       "      <th>ESTADO_CIVIL</th>\n",
       "      <th>IDADE</th>\n",
       "      <th>ATRASO_PARCELA_M_0</th>\n",
       "      <th>ATRASO_PARCELA_M_2</th>\n",
       "      <th>ATRASO_PARCELA_M_3</th>\n",
       "      <th>ATRASO_PARCELA_M_4</th>\n",
       "      <th>...</th>\n",
       "      <th>SALDO_PAGO_PARCELA_3</th>\n",
       "      <th>SALDO_PAGO_PARCELA_4</th>\n",
       "      <th>SALDO_PAGO_PARCELA_5</th>\n",
       "      <th>SALDO_PAGO_PARCELA_6</th>\n",
       "      <th>VALOR_PAGAMENTO_ANTERIOR_1</th>\n",
       "      <th>VALOR_PAGAMENTO_ANTERIOR_2</th>\n",
       "      <th>VALOR_PAGAMENTO_ANTERIOR_3</th>\n",
       "      <th>VALOR_PAGAMENTO_ANTERIOR_4</th>\n",
       "      <th>VALOR_PAGAMENTO_ANTERIOR_5</th>\n",
       "      <th>VALOR_PAGAMENTO_ANTERIOR_6</th>\n",
       "    </tr>\n",
       "  </thead>\n",
       "  <tbody>\n",
       "    <tr>\n",
       "      <th>0</th>\n",
       "      <td>0</td>\n",
       "      <td>480000</td>\n",
       "      <td>2</td>\n",
       "      <td>2</td>\n",
       "      <td>1</td>\n",
       "      <td>35</td>\n",
       "      <td>0</td>\n",
       "      <td>0</td>\n",
       "      <td>0</td>\n",
       "      <td>0</td>\n",
       "      <td>...</td>\n",
       "      <td>244961</td>\n",
       "      <td>248394</td>\n",
       "      <td>253596</td>\n",
       "      <td>211055</td>\n",
       "      <td>51000</td>\n",
       "      <td>10000</td>\n",
       "      <td>8000</td>\n",
       "      <td>8200</td>\n",
       "      <td>23000</td>\n",
       "      <td>8000</td>\n",
       "    </tr>\n",
       "    <tr>\n",
       "      <th>1</th>\n",
       "      <td>1</td>\n",
       "      <td>60000</td>\n",
       "      <td>1</td>\n",
       "      <td>1</td>\n",
       "      <td>2</td>\n",
       "      <td>35</td>\n",
       "      <td>0</td>\n",
       "      <td>1</td>\n",
       "      <td>1</td>\n",
       "      <td>-1</td>\n",
       "      <td>...</td>\n",
       "      <td>-2743</td>\n",
       "      <td>436</td>\n",
       "      <td>20</td>\n",
       "      <td>-225</td>\n",
       "      <td>0</td>\n",
       "      <td>0</td>\n",
       "      <td>5439</td>\n",
       "      <td>0</td>\n",
       "      <td>170</td>\n",
       "      <td>0</td>\n",
       "    </tr>\n",
       "    <tr>\n",
       "      <th>2</th>\n",
       "      <td>0</td>\n",
       "      <td>200000</td>\n",
       "      <td>2</td>\n",
       "      <td>3</td>\n",
       "      <td>2</td>\n",
       "      <td>49</td>\n",
       "      <td>-1</td>\n",
       "      <td>-1</td>\n",
       "      <td>0</td>\n",
       "      <td>0</td>\n",
       "      <td>...</td>\n",
       "      <td>27974</td>\n",
       "      <td>30596</td>\n",
       "      <td>38109</td>\n",
       "      <td>22170</td>\n",
       "      <td>20071</td>\n",
       "      <td>20036</td>\n",
       "      <td>15022</td>\n",
       "      <td>15113</td>\n",
       "      <td>22235</td>\n",
       "      <td>3919</td>\n",
       "    </tr>\n",
       "    <tr>\n",
       "      <th>3</th>\n",
       "      <td>0</td>\n",
       "      <td>180000</td>\n",
       "      <td>1</td>\n",
       "      <td>1</td>\n",
       "      <td>1</td>\n",
       "      <td>48</td>\n",
       "      <td>0</td>\n",
       "      <td>0</td>\n",
       "      <td>0</td>\n",
       "      <td>0</td>\n",
       "      <td>...</td>\n",
       "      <td>160707</td>\n",
       "      <td>162477</td>\n",
       "      <td>166861</td>\n",
       "      <td>171083</td>\n",
       "      <td>8000</td>\n",
       "      <td>8000</td>\n",
       "      <td>6000</td>\n",
       "      <td>7000</td>\n",
       "      <td>7000</td>\n",
       "      <td>7000</td>\n",
       "    </tr>\n",
       "    <tr>\n",
       "      <th>4</th>\n",
       "      <td>1</td>\n",
       "      <td>200000</td>\n",
       "      <td>1</td>\n",
       "      <td>1</td>\n",
       "      <td>1</td>\n",
       "      <td>27</td>\n",
       "      <td>0</td>\n",
       "      <td>0</td>\n",
       "      <td>1</td>\n",
       "      <td>0</td>\n",
       "      <td>...</td>\n",
       "      <td>201605</td>\n",
       "      <td>179983</td>\n",
       "      <td>185993</td>\n",
       "      <td>192317</td>\n",
       "      <td>21364</td>\n",
       "      <td>1401</td>\n",
       "      <td>9637</td>\n",
       "      <td>9559</td>\n",
       "      <td>9497</td>\n",
       "      <td>15555</td>\n",
       "    </tr>\n",
       "  </tbody>\n",
       "</table>\n",
       "<p>5 rows × 24 columns</p>\n",
       "</div>"
      ],
      "text/plain": [
       "   INADIMPLENTE  CREDITO_CONCEDIDO  GENERO  ESCOLARIDADE  ESTADO_CIVIL  IDADE  \\\n",
       "0             0             480000       2             2             1     35   \n",
       "1             1              60000       1             1             2     35   \n",
       "2             0             200000       2             3             2     49   \n",
       "3             0             180000       1             1             1     48   \n",
       "4             1             200000       1             1             1     27   \n",
       "\n",
       "   ATRASO_PARCELA_M_0  ATRASO_PARCELA_M_2  ATRASO_PARCELA_M_3  \\\n",
       "0                   0                   0                   0   \n",
       "1                   0                   1                   1   \n",
       "2                  -1                  -1                   0   \n",
       "3                   0                   0                   0   \n",
       "4                   0                   0                   1   \n",
       "\n",
       "   ATRASO_PARCELA_M_4  ...  SALDO_PAGO_PARCELA_3  SALDO_PAGO_PARCELA_4  \\\n",
       "0                   0  ...                244961                248394   \n",
       "1                  -1  ...                 -2743                   436   \n",
       "2                   0  ...                 27974                 30596   \n",
       "3                   0  ...                160707                162477   \n",
       "4                   0  ...                201605                179983   \n",
       "\n",
       "   SALDO_PAGO_PARCELA_5  SALDO_PAGO_PARCELA_6  VALOR_PAGAMENTO_ANTERIOR_1  \\\n",
       "0                253596                211055                       51000   \n",
       "1                    20                  -225                           0   \n",
       "2                 38109                 22170                       20071   \n",
       "3                166861                171083                        8000   \n",
       "4                185993                192317                       21364   \n",
       "\n",
       "   VALOR_PAGAMENTO_ANTERIOR_2  VALOR_PAGAMENTO_ANTERIOR_3  \\\n",
       "0                       10000                        8000   \n",
       "1                           0                        5439   \n",
       "2                       20036                       15022   \n",
       "3                        8000                        6000   \n",
       "4                        1401                        9637   \n",
       "\n",
       "   VALOR_PAGAMENTO_ANTERIOR_4  VALOR_PAGAMENTO_ANTERIOR_5  \\\n",
       "0                        8200                       23000   \n",
       "1                           0                         170   \n",
       "2                       15113                       22235   \n",
       "3                        7000                        7000   \n",
       "4                        9559                        9497   \n",
       "\n",
       "   VALOR_PAGAMENTO_ANTERIOR_6  \n",
       "0                        8000  \n",
       "1                           0  \n",
       "2                        3919  \n",
       "3                        7000  \n",
       "4                       15555  \n",
       "\n",
       "[5 rows x 24 columns]"
      ]
     },
     "execution_count": 38,
     "metadata": {},
     "output_type": "execute_result"
    }
   ],
   "source": [
    "df_bytebank_teste \\\n",
    "    = pd.read_csv(dict_caminho_dados['teste'])\n",
    "df_bytebank_teste.head(5)"
   ]
  },
  {
   "cell_type": "code",
   "execution_count": 39,
   "metadata": {},
   "outputs": [],
   "source": [
    "y_teste = np.array(df_bytebank_teste['INADIMPLENTE'])"
   ]
  },
  {
   "cell_type": "code",
   "execution_count": 40,
   "metadata": {},
   "outputs": [],
   "source": [
    "del df_bytebank_teste['INADIMPLENTE']"
   ]
  },
  {
   "cell_type": "code",
   "execution_count": 41,
   "metadata": {},
   "outputs": [
    {
     "data": {
      "text/html": [
       "<div>\n",
       "<style scoped>\n",
       "    .dataframe tbody tr th:only-of-type {\n",
       "        vertical-align: middle;\n",
       "    }\n",
       "\n",
       "    .dataframe tbody tr th {\n",
       "        vertical-align: top;\n",
       "    }\n",
       "\n",
       "    .dataframe thead th {\n",
       "        text-align: right;\n",
       "    }\n",
       "</style>\n",
       "<table border=\"1\" class=\"dataframe\">\n",
       "  <thead>\n",
       "    <tr style=\"text-align: right;\">\n",
       "      <th></th>\n",
       "      <th>CREDITO_CONCEDIDO</th>\n",
       "      <th>GENERO</th>\n",
       "      <th>ESCOLARIDADE</th>\n",
       "      <th>ESTADO_CIVIL</th>\n",
       "      <th>IDADE</th>\n",
       "      <th>ATRASO_PARCELA_M_0</th>\n",
       "      <th>ATRASO_PARCELA_M_2</th>\n",
       "      <th>ATRASO_PARCELA_M_3</th>\n",
       "      <th>ATRASO_PARCELA_M_4</th>\n",
       "      <th>ATRASO_PARCELA_M_5</th>\n",
       "      <th>...</th>\n",
       "      <th>SALDO_PAGO_PARCELA_3</th>\n",
       "      <th>SALDO_PAGO_PARCELA_4</th>\n",
       "      <th>SALDO_PAGO_PARCELA_5</th>\n",
       "      <th>SALDO_PAGO_PARCELA_6</th>\n",
       "      <th>VALOR_PAGAMENTO_ANTERIOR_1</th>\n",
       "      <th>VALOR_PAGAMENTO_ANTERIOR_2</th>\n",
       "      <th>VALOR_PAGAMENTO_ANTERIOR_3</th>\n",
       "      <th>VALOR_PAGAMENTO_ANTERIOR_4</th>\n",
       "      <th>VALOR_PAGAMENTO_ANTERIOR_5</th>\n",
       "      <th>VALOR_PAGAMENTO_ANTERIOR_6</th>\n",
       "    </tr>\n",
       "  </thead>\n",
       "  <tbody>\n",
       "    <tr>\n",
       "      <th>0</th>\n",
       "      <td>480000</td>\n",
       "      <td>2</td>\n",
       "      <td>2</td>\n",
       "      <td>1</td>\n",
       "      <td>35</td>\n",
       "      <td>0</td>\n",
       "      <td>0</td>\n",
       "      <td>0</td>\n",
       "      <td>0</td>\n",
       "      <td>0</td>\n",
       "      <td>...</td>\n",
       "      <td>244961</td>\n",
       "      <td>248394</td>\n",
       "      <td>253596</td>\n",
       "      <td>211055</td>\n",
       "      <td>51000</td>\n",
       "      <td>10000</td>\n",
       "      <td>8000</td>\n",
       "      <td>8200</td>\n",
       "      <td>23000</td>\n",
       "      <td>8000</td>\n",
       "    </tr>\n",
       "    <tr>\n",
       "      <th>1</th>\n",
       "      <td>60000</td>\n",
       "      <td>1</td>\n",
       "      <td>1</td>\n",
       "      <td>2</td>\n",
       "      <td>35</td>\n",
       "      <td>0</td>\n",
       "      <td>1</td>\n",
       "      <td>1</td>\n",
       "      <td>-1</td>\n",
       "      <td>0</td>\n",
       "      <td>...</td>\n",
       "      <td>-2743</td>\n",
       "      <td>436</td>\n",
       "      <td>20</td>\n",
       "      <td>-225</td>\n",
       "      <td>0</td>\n",
       "      <td>0</td>\n",
       "      <td>5439</td>\n",
       "      <td>0</td>\n",
       "      <td>170</td>\n",
       "      <td>0</td>\n",
       "    </tr>\n",
       "    <tr>\n",
       "      <th>2</th>\n",
       "      <td>200000</td>\n",
       "      <td>2</td>\n",
       "      <td>3</td>\n",
       "      <td>2</td>\n",
       "      <td>49</td>\n",
       "      <td>-1</td>\n",
       "      <td>-1</td>\n",
       "      <td>0</td>\n",
       "      <td>0</td>\n",
       "      <td>0</td>\n",
       "      <td>...</td>\n",
       "      <td>27974</td>\n",
       "      <td>30596</td>\n",
       "      <td>38109</td>\n",
       "      <td>22170</td>\n",
       "      <td>20071</td>\n",
       "      <td>20036</td>\n",
       "      <td>15022</td>\n",
       "      <td>15113</td>\n",
       "      <td>22235</td>\n",
       "      <td>3919</td>\n",
       "    </tr>\n",
       "  </tbody>\n",
       "</table>\n",
       "<p>3 rows × 23 columns</p>\n",
       "</div>"
      ],
      "text/plain": [
       "   CREDITO_CONCEDIDO  GENERO  ESCOLARIDADE  ESTADO_CIVIL  IDADE  \\\n",
       "0             480000       2             2             1     35   \n",
       "1              60000       1             1             2     35   \n",
       "2             200000       2             3             2     49   \n",
       "\n",
       "   ATRASO_PARCELA_M_0  ATRASO_PARCELA_M_2  ATRASO_PARCELA_M_3  \\\n",
       "0                   0                   0                   0   \n",
       "1                   0                   1                   1   \n",
       "2                  -1                  -1                   0   \n",
       "\n",
       "   ATRASO_PARCELA_M_4  ATRASO_PARCELA_M_5  ...  SALDO_PAGO_PARCELA_3  \\\n",
       "0                   0                   0  ...                244961   \n",
       "1                  -1                   0  ...                 -2743   \n",
       "2                   0                   0  ...                 27974   \n",
       "\n",
       "   SALDO_PAGO_PARCELA_4  SALDO_PAGO_PARCELA_5  SALDO_PAGO_PARCELA_6  \\\n",
       "0                248394                253596                211055   \n",
       "1                   436                    20                  -225   \n",
       "2                 30596                 38109                 22170   \n",
       "\n",
       "   VALOR_PAGAMENTO_ANTERIOR_1  VALOR_PAGAMENTO_ANTERIOR_2  \\\n",
       "0                       51000                       10000   \n",
       "1                           0                           0   \n",
       "2                       20071                       20036   \n",
       "\n",
       "   VALOR_PAGAMENTO_ANTERIOR_3  VALOR_PAGAMENTO_ANTERIOR_4  \\\n",
       "0                        8000                        8200   \n",
       "1                        5439                           0   \n",
       "2                       15022                       15113   \n",
       "\n",
       "   VALOR_PAGAMENTO_ANTERIOR_5  VALOR_PAGAMENTO_ANTERIOR_6  \n",
       "0                       23000                        8000  \n",
       "1                         170                           0  \n",
       "2                       22235                        3919  \n",
       "\n",
       "[3 rows x 23 columns]"
      ]
     },
     "execution_count": 41,
     "metadata": {},
     "output_type": "execute_result"
    }
   ],
   "source": [
    "df_bytebank_teste.head(3)"
   ]
  },
  {
   "cell_type": "code",
   "execution_count": 42,
   "metadata": {},
   "outputs": [],
   "source": [
    "colunas = [\n",
    "    'CREDITO_CONCEDIDO',\n",
    "    'GENERO',\n",
    "    'ESCOLARIDADE',\n",
    "    'ESTADO_CIVIL',\n",
    "    'IDADE',\n",
    "    'ATRASO_PARCELA_M_0',\n",
    "    'ATRASO_PARCELA_M_2',\n",
    "    'ATRASO_PARCELA_M_3',\n",
    "    'ATRASO_PARCELA_M_4',\n",
    "    'ATRASO_PARCELA_M_5',\n",
    "    'ATRASO_PARCELA_M_6',\n",
    "    'SALDO_PAGO_PARCELA_1',\n",
    "    'SALDO_PAGO_PARCELA_2',\n",
    "    'SALDO_PAGO_PARCELA_3',\n",
    "    'SALDO_PAGO_PARCELA_4',\n",
    "    'SALDO_PAGO_PARCELA_5',\n",
    "    'SALDO_PAGO_PARCELA_6',\n",
    "    'VALOR_PAGAMENTO_ANTERIOR_1',\n",
    "    'VALOR_PAGAMENTO_ANTERIOR_2',\n",
    "    'VALOR_PAGAMENTO_ANTERIOR_3',\n",
    "    'VALOR_PAGAMENTO_ANTERIOR_4',\n",
    "    'VALOR_PAGAMENTO_ANTERIOR_5',\n",
    "    'VALOR_PAGAMENTO_ANTERIOR_6',\n",
    "]\n",
    "\n",
    "df_bytebank_teste['payload'] \\\n",
    "    = df_bytebank_teste[colunas].apply(\n",
    "        lambda row: ','.join(\n",
    "            row.values.astype(str)), axis=1)"
   ]
  },
  {
   "cell_type": "code",
   "execution_count": 43,
   "metadata": {},
   "outputs": [
    {
     "data": {
      "text/html": [
       "<div>\n",
       "<style scoped>\n",
       "    .dataframe tbody tr th:only-of-type {\n",
       "        vertical-align: middle;\n",
       "    }\n",
       "\n",
       "    .dataframe tbody tr th {\n",
       "        vertical-align: top;\n",
       "    }\n",
       "\n",
       "    .dataframe thead th {\n",
       "        text-align: right;\n",
       "    }\n",
       "</style>\n",
       "<table border=\"1\" class=\"dataframe\">\n",
       "  <thead>\n",
       "    <tr style=\"text-align: right;\">\n",
       "      <th></th>\n",
       "      <th>CREDITO_CONCEDIDO</th>\n",
       "      <th>GENERO</th>\n",
       "      <th>ESCOLARIDADE</th>\n",
       "      <th>ESTADO_CIVIL</th>\n",
       "      <th>IDADE</th>\n",
       "      <th>ATRASO_PARCELA_M_0</th>\n",
       "      <th>ATRASO_PARCELA_M_2</th>\n",
       "      <th>ATRASO_PARCELA_M_3</th>\n",
       "      <th>ATRASO_PARCELA_M_4</th>\n",
       "      <th>ATRASO_PARCELA_M_5</th>\n",
       "      <th>...</th>\n",
       "      <th>SALDO_PAGO_PARCELA_4</th>\n",
       "      <th>SALDO_PAGO_PARCELA_5</th>\n",
       "      <th>SALDO_PAGO_PARCELA_6</th>\n",
       "      <th>VALOR_PAGAMENTO_ANTERIOR_1</th>\n",
       "      <th>VALOR_PAGAMENTO_ANTERIOR_2</th>\n",
       "      <th>VALOR_PAGAMENTO_ANTERIOR_3</th>\n",
       "      <th>VALOR_PAGAMENTO_ANTERIOR_4</th>\n",
       "      <th>VALOR_PAGAMENTO_ANTERIOR_5</th>\n",
       "      <th>VALOR_PAGAMENTO_ANTERIOR_6</th>\n",
       "      <th>payload</th>\n",
       "    </tr>\n",
       "  </thead>\n",
       "  <tbody>\n",
       "    <tr>\n",
       "      <th>0</th>\n",
       "      <td>480000</td>\n",
       "      <td>2</td>\n",
       "      <td>2</td>\n",
       "      <td>1</td>\n",
       "      <td>35</td>\n",
       "      <td>0</td>\n",
       "      <td>0</td>\n",
       "      <td>0</td>\n",
       "      <td>0</td>\n",
       "      <td>0</td>\n",
       "      <td>...</td>\n",
       "      <td>248394</td>\n",
       "      <td>253596</td>\n",
       "      <td>211055</td>\n",
       "      <td>51000</td>\n",
       "      <td>10000</td>\n",
       "      <td>8000</td>\n",
       "      <td>8200</td>\n",
       "      <td>23000</td>\n",
       "      <td>8000</td>\n",
       "      <td>480000,2,2,1,35,0,0,0,0,0,0,227221,243942,2449...</td>\n",
       "    </tr>\n",
       "    <tr>\n",
       "      <th>1</th>\n",
       "      <td>60000</td>\n",
       "      <td>1</td>\n",
       "      <td>1</td>\n",
       "      <td>2</td>\n",
       "      <td>35</td>\n",
       "      <td>0</td>\n",
       "      <td>1</td>\n",
       "      <td>1</td>\n",
       "      <td>-1</td>\n",
       "      <td>0</td>\n",
       "      <td>...</td>\n",
       "      <td>436</td>\n",
       "      <td>20</td>\n",
       "      <td>-225</td>\n",
       "      <td>0</td>\n",
       "      <td>0</td>\n",
       "      <td>5439</td>\n",
       "      <td>0</td>\n",
       "      <td>170</td>\n",
       "      <td>0</td>\n",
       "      <td>60000,1,1,2,35,0,1,1,-1,0,-1,737,320,-2743,436...</td>\n",
       "    </tr>\n",
       "    <tr>\n",
       "      <th>2</th>\n",
       "      <td>200000</td>\n",
       "      <td>2</td>\n",
       "      <td>3</td>\n",
       "      <td>2</td>\n",
       "      <td>49</td>\n",
       "      <td>-1</td>\n",
       "      <td>-1</td>\n",
       "      <td>0</td>\n",
       "      <td>0</td>\n",
       "      <td>0</td>\n",
       "      <td>...</td>\n",
       "      <td>30596</td>\n",
       "      <td>38109</td>\n",
       "      <td>22170</td>\n",
       "      <td>20071</td>\n",
       "      <td>20036</td>\n",
       "      <td>15022</td>\n",
       "      <td>15113</td>\n",
       "      <td>22235</td>\n",
       "      <td>3919</td>\n",
       "      <td>200000,2,3,2,49,-1,-1,0,0,0,-1,7697,18951,2797...</td>\n",
       "    </tr>\n",
       "    <tr>\n",
       "      <th>3</th>\n",
       "      <td>180000</td>\n",
       "      <td>1</td>\n",
       "      <td>1</td>\n",
       "      <td>1</td>\n",
       "      <td>48</td>\n",
       "      <td>0</td>\n",
       "      <td>0</td>\n",
       "      <td>0</td>\n",
       "      <td>0</td>\n",
       "      <td>0</td>\n",
       "      <td>...</td>\n",
       "      <td>162477</td>\n",
       "      <td>166861</td>\n",
       "      <td>171083</td>\n",
       "      <td>8000</td>\n",
       "      <td>8000</td>\n",
       "      <td>6000</td>\n",
       "      <td>7000</td>\n",
       "      <td>7000</td>\n",
       "      <td>7000</td>\n",
       "      <td>180000,1,1,1,48,0,0,0,0,0,0,163461,167140,1607...</td>\n",
       "    </tr>\n",
       "    <tr>\n",
       "      <th>4</th>\n",
       "      <td>200000</td>\n",
       "      <td>1</td>\n",
       "      <td>1</td>\n",
       "      <td>1</td>\n",
       "      <td>27</td>\n",
       "      <td>0</td>\n",
       "      <td>0</td>\n",
       "      <td>1</td>\n",
       "      <td>0</td>\n",
       "      <td>0</td>\n",
       "      <td>...</td>\n",
       "      <td>179983</td>\n",
       "      <td>185993</td>\n",
       "      <td>192317</td>\n",
       "      <td>21364</td>\n",
       "      <td>1401</td>\n",
       "      <td>9637</td>\n",
       "      <td>9559</td>\n",
       "      <td>9497</td>\n",
       "      <td>15555</td>\n",
       "      <td>200000,1,1,1,27,0,0,1,0,0,0,188361,205761,2016...</td>\n",
       "    </tr>\n",
       "  </tbody>\n",
       "</table>\n",
       "<p>5 rows × 24 columns</p>\n",
       "</div>"
      ],
      "text/plain": [
       "   CREDITO_CONCEDIDO  GENERO  ESCOLARIDADE  ESTADO_CIVIL  IDADE  \\\n",
       "0             480000       2             2             1     35   \n",
       "1              60000       1             1             2     35   \n",
       "2             200000       2             3             2     49   \n",
       "3             180000       1             1             1     48   \n",
       "4             200000       1             1             1     27   \n",
       "\n",
       "   ATRASO_PARCELA_M_0  ATRASO_PARCELA_M_2  ATRASO_PARCELA_M_3  \\\n",
       "0                   0                   0                   0   \n",
       "1                   0                   1                   1   \n",
       "2                  -1                  -1                   0   \n",
       "3                   0                   0                   0   \n",
       "4                   0                   0                   1   \n",
       "\n",
       "   ATRASO_PARCELA_M_4  ATRASO_PARCELA_M_5  ...  SALDO_PAGO_PARCELA_4  \\\n",
       "0                   0                   0  ...                248394   \n",
       "1                  -1                   0  ...                   436   \n",
       "2                   0                   0  ...                 30596   \n",
       "3                   0                   0  ...                162477   \n",
       "4                   0                   0  ...                179983   \n",
       "\n",
       "   SALDO_PAGO_PARCELA_5  SALDO_PAGO_PARCELA_6  VALOR_PAGAMENTO_ANTERIOR_1  \\\n",
       "0                253596                211055                       51000   \n",
       "1                    20                  -225                           0   \n",
       "2                 38109                 22170                       20071   \n",
       "3                166861                171083                        8000   \n",
       "4                185993                192317                       21364   \n",
       "\n",
       "   VALOR_PAGAMENTO_ANTERIOR_2  VALOR_PAGAMENTO_ANTERIOR_3  \\\n",
       "0                       10000                        8000   \n",
       "1                           0                        5439   \n",
       "2                       20036                       15022   \n",
       "3                        8000                        6000   \n",
       "4                        1401                        9637   \n",
       "\n",
       "   VALOR_PAGAMENTO_ANTERIOR_4  VALOR_PAGAMENTO_ANTERIOR_5  \\\n",
       "0                        8200                       23000   \n",
       "1                           0                         170   \n",
       "2                       15113                       22235   \n",
       "3                        7000                        7000   \n",
       "4                        9559                        9497   \n",
       "\n",
       "   VALOR_PAGAMENTO_ANTERIOR_6  \\\n",
       "0                        8000   \n",
       "1                           0   \n",
       "2                        3919   \n",
       "3                        7000   \n",
       "4                       15555   \n",
       "\n",
       "                                             payload  \n",
       "0  480000,2,2,1,35,0,0,0,0,0,0,227221,243942,2449...  \n",
       "1  60000,1,1,2,35,0,1,1,-1,0,-1,737,320,-2743,436...  \n",
       "2  200000,2,3,2,49,-1,-1,0,0,0,-1,7697,18951,2797...  \n",
       "3  180000,1,1,1,48,0,0,0,0,0,0,163461,167140,1607...  \n",
       "4  200000,1,1,1,27,0,0,1,0,0,0,188361,205761,2016...  \n",
       "\n",
       "[5 rows x 24 columns]"
      ]
     },
     "execution_count": 43,
     "metadata": {},
     "output_type": "execute_result"
    }
   ],
   "source": [
    "df_bytebank_teste.head(5)"
   ]
  },
  {
   "cell_type": "code",
   "execution_count": 44,
   "metadata": {},
   "outputs": [],
   "source": [
    "# Interação na base de teste e acesso ao \n",
    "# via chamadas no endpoint\n",
    "y_pred = []\n",
    "\n",
    "for index, row in df_bytebank_teste.iterrows():\n",
    "    body = row.payload\n",
    "    predicao = modelo_endpoint.predict(body).decode('utf-8')\n",
    "    y_pred.append(predicao)"
   ]
  },
  {
   "cell_type": "code",
   "execution_count": 45,
   "metadata": {},
   "outputs": [],
   "source": [
    "# Apenas alguns rótulos para geração dos gráficos\n",
    "rotulos_classes = ['adimplente', 'inadimplente']"
   ]
  },
  {
   "cell_type": "code",
   "execution_count": 46,
   "metadata": {},
   "outputs": [],
   "source": [
    "# Vamos considerar como y sendo a nossa base de validação e\n",
    "# y_pred como resultado dos dados previstos pelo modelo\n",
    "y = np.array(y_teste)"
   ]
  },
  {
   "cell_type": "code",
   "execution_count": 47,
   "metadata": {},
   "outputs": [],
   "source": [
    "y_pred = np.array(y_pred)"
   ]
  },
  {
   "cell_type": "code",
   "execution_count": 48,
   "metadata": {},
   "outputs": [],
   "source": [
    "y_pred = y_pred.astype(float).astype(int)"
   ]
  },
  {
   "cell_type": "code",
   "execution_count": 49,
   "metadata": {},
   "outputs": [
    {
     "data": {
      "text/plain": [
       "array([0, 1, 0, ..., 0, 0, 0])"
      ]
     },
     "execution_count": 49,
     "metadata": {},
     "output_type": "execute_result"
    }
   ],
   "source": [
    "y_pred"
   ]
  },
  {
   "cell_type": "markdown",
   "metadata": {},
   "source": [
    "# Relatório de Classificação"
   ]
  },
  {
   "cell_type": "code",
   "execution_count": 50,
   "metadata": {},
   "outputs": [
    {
     "data": {
      "text/html": [
       "<div>\n",
       "<style scoped>\n",
       "    .dataframe tbody tr th:only-of-type {\n",
       "        vertical-align: middle;\n",
       "    }\n",
       "\n",
       "    .dataframe tbody tr th {\n",
       "        vertical-align: top;\n",
       "    }\n",
       "\n",
       "    .dataframe thead th {\n",
       "        text-align: right;\n",
       "    }\n",
       "</style>\n",
       "<table border=\"1\" class=\"dataframe\">\n",
       "  <thead>\n",
       "    <tr style=\"text-align: right;\">\n",
       "      <th></th>\n",
       "      <th>adimplente</th>\n",
       "      <th>inadimplente</th>\n",
       "      <th>accuracy</th>\n",
       "      <th>macro avg</th>\n",
       "      <th>weighted avg</th>\n",
       "    </tr>\n",
       "  </thead>\n",
       "  <tbody>\n",
       "    <tr>\n",
       "      <th>precision</th>\n",
       "      <td>0.785616</td>\n",
       "      <td>0.817541</td>\n",
       "      <td>0.800726</td>\n",
       "      <td>0.801578</td>\n",
       "      <td>0.801574</td>\n",
       "    </tr>\n",
       "    <tr>\n",
       "      <th>recall</th>\n",
       "      <td>0.827336</td>\n",
       "      <td>0.774100</td>\n",
       "      <td>0.800726</td>\n",
       "      <td>0.800718</td>\n",
       "      <td>0.800726</td>\n",
       "    </tr>\n",
       "    <tr>\n",
       "      <th>f1-score</th>\n",
       "      <td>0.805936</td>\n",
       "      <td>0.795227</td>\n",
       "      <td>0.800726</td>\n",
       "      <td>0.800582</td>\n",
       "      <td>0.800583</td>\n",
       "    </tr>\n",
       "    <tr>\n",
       "      <th>support</th>\n",
       "      <td>3446.000000</td>\n",
       "      <td>3444.000000</td>\n",
       "      <td>0.800726</td>\n",
       "      <td>6890.000000</td>\n",
       "      <td>6890.000000</td>\n",
       "    </tr>\n",
       "  </tbody>\n",
       "</table>\n",
       "</div>"
      ],
      "text/plain": [
       "            adimplente  inadimplente  accuracy    macro avg  weighted avg\n",
       "precision     0.785616      0.817541  0.800726     0.801578      0.801574\n",
       "recall        0.827336      0.774100  0.800726     0.800718      0.800726\n",
       "f1-score      0.805936      0.795227  0.800726     0.800582      0.800583\n",
       "support    3446.000000   3444.000000  0.800726  6890.000000   6890.000000"
      ]
     },
     "execution_count": 50,
     "metadata": {},
     "output_type": "execute_result"
    }
   ],
   "source": [
    "pd.DataFrame(\n",
    "    classification_report(\n",
    "        y,\n",
    "        y_pred,\n",
    "        target_names=rotulos_classes,\n",
    "        output_dict=True))"
   ]
  },
  {
   "cell_type": "markdown",
   "metadata": {},
   "source": [
    "# Métricas de Classificação"
   ]
  },
  {
   "cell_type": "code",
   "execution_count": 51,
   "metadata": {},
   "outputs": [],
   "source": [
    "def metricas_classificacao(y_test,\n",
    "                               y_pred,\n",
    "                               class_labels=rotulos_classes):\n",
    "    accuracy = accuracy_score(y_test , y_pred)\n",
    "    print(f\"Acurácia: {round(accuracy, 2)* 100} %\")"
   ]
  },
  {
   "cell_type": "code",
   "execution_count": 52,
   "metadata": {},
   "outputs": [
    {
     "name": "stdout",
     "output_type": "stream",
     "text": [
      "Acurácia: 80.0 %\n"
     ]
    }
   ],
   "source": [
    "metricas_classificacao(y, y_pred)"
   ]
  },
  {
   "cell_type": "markdown",
   "metadata": {},
   "source": [
    "# Matriz de Confusão"
   ]
  },
  {
   "cell_type": "code",
   "execution_count": 53,
   "metadata": {},
   "outputs": [
    {
     "data": {
      "image/png": "[encoded data removed]",
      "text/plain": [
       "<Figure size 432x288 with 2 Axes>"
      ]
     },
     "metadata": {
      "needs_background": "light"
     },
     "output_type": "display_data"
    }
   ],
   "source": [
    "cm = confusion_matrix(y,\n",
    "                      y_pred)\n",
    "\n",
    "cm_display = \\\n",
    "    ConfusionMatrixDisplay(cm,\n",
    "                           display_labels=rotulos_classes).plot(values_format = '.0f')"
   ]
  },
  {
   "cell_type": "markdown",
   "metadata": {},
   "source": [
    "# Script para fazer a chamada no endpoint"
   ]
  },
  {
   "cell_type": "code",
   "execution_count": 54,
   "metadata": {},
   "outputs": [],
   "source": [
    "import boto3\n",
    "\n",
    "endpoint_name = 'bytebankSDKEndpoint'\n",
    "\n",
    "# Criação do cliente da sessão do boto3\n",
    "# para runtime\n",
    "runtime = \\\n",
    "    boto3.Session().client(\n",
    "        service_name='sagemaker-runtime',\n",
    "        region_name='us-east-1'\n",
    ")\n",
    "\n",
    "payload \\\n",
    "    = '140000,2,2,1,37,0,0,0,0,0,0,58081,51013,54343,27537,9751,12569,5000,5000,5000,3000,3000,5000'\n",
    "\n",
    "# Criação do objeto que vai pegar a \n",
    "# resposta da chamada no Endpoint\n",
    "response = \\\n",
    "    runtime.invoke_endpoint(\n",
    "        EndpointName=endpoint_name,\n",
    "        ContentType='text/csv',\n",
    "        Body=payload\n",
    ")"
   ]
  },
  {
   "cell_type": "code",
   "execution_count": 55,
   "metadata": {},
   "outputs": [
    {
     "name": "stdout",
     "output_type": "stream",
     "text": [
      "{'ResponseMetadata': {'RequestId': '43705328-2386-42e6-91f0-d301c16b1796', 'HTTPStatusCode': 200, 'HTTPHeaders': {'x-amzn-requestid': '43705328-2386-42e6-91f0-d301c16b1796', 'x-amzn-invoked-production-variant': 'AllTraffic', 'date': 'Mon, 15 Feb 2021 22:02:04 GMT', 'content-type': 'text/csv; charset=utf-8', 'content-length': '3'}, 'RetryAttempts': 0}, 'ContentType': 'text/csv; charset=utf-8', 'InvokedProductionVariant': 'AllTraffic', 'Body': <botocore.response.StreamingBody object at 0x7f68881f3cf8>}\n"
     ]
    }
   ],
   "source": [
    "print(response)"
   ]
  },
  {
   "cell_type": "code",
   "execution_count": 56,
   "metadata": {},
   "outputs": [
    {
     "name": "stdout",
     "output_type": "stream",
     "text": [
      "Crédito será inadimplente?: 0\n"
     ]
    }
   ],
   "source": [
    "predicao = int(float((response['Body'].read().decode('UTF-8'))))\n",
    "print(f'Crédito será inadimplente?: {predicao}')"
   ]
  },
  {
   "cell_type": "markdown",
   "metadata": {},
   "source": [
    "# Remoção dos artefatos construídos"
   ]
  },
  {
   "cell_type": "code",
   "execution_count": 57,
   "metadata": {},
   "outputs": [
    {
     "data": {
      "text/plain": [
       "'bytebankSDKEndpoint'"
      ]
     },
     "execution_count": 57,
     "metadata": {},
     "output_type": "execute_result"
    }
   ],
   "source": [
    "modelo_endpoint.endpoint_name"
   ]
  },
  {
   "cell_type": "code",
   "execution_count": 58,
   "metadata": {},
   "outputs": [],
   "source": [
    "# Remoção das configurações do Endpoint\n",
    "sessao_sagemaker.delete_endpoint_config('bytebankSDKEndpoint')"
   ]
  },
  {
   "cell_type": "code",
   "execution_count": 60,
   "metadata": {},
   "outputs": [],
   "source": [
    "# Remoção do modelo \n",
    "sessao_sagemaker.delete_model('bytebankPythonSDK-2021-02-15-21-43-56-913')"
   ]
  },
  {
   "cell_type": "code",
   "execution_count": 61,
   "metadata": {},
   "outputs": [],
   "source": [
    "# Remoção do endpoint\n",
    "sessao_sagemaker.delete_endpoint('bytebankSDKEndpoint')"
   ]
  },
  {
   "cell_type": "code",
   "execution_count": null,
   "metadata": {},
   "outputs": [],
   "source": []
  }
 ],
 "metadata": {
  "kernelspec": {
   "display_name": "conda_tensorflow_p36",
   "language": "python",
   "name": "conda_tensorflow_p36"
  },
  "language_info": {
   "codemirror_mode": {
    "name": "ipython",
    "version": 3
   },
   "file_extension": ".py",
   "mimetype": "text/x-python",
   "name": "python",
   "nbconvert_exporter": "python",
   "pygments_lexer": "ipython3",
   "version": "3.6.10"
  }
 },
 "nbformat": 4,
 "nbformat_minor": 4
}
